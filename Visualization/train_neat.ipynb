{
 "cells": [
  {
   "cell_type": "code",
   "execution_count": 1,
   "metadata": {},
   "outputs": [
    {
     "name": "stdout",
     "output_type": "stream",
     "text": [
      "Loading data_manager for NEAT\n",
      "Loading Data\n",
      "number of zip codes: 10559\n",
      "number of zip codes with solar data: 10559\n",
      "number of zip codes with census data: 10559\n",
      "Removing Outliers\n",
      "zips after removing outliers: 7795\n"
     ]
    }
   ],
   "source": [
    "from datetime import datetime\n",
    "import os\n",
    "import pickle\n",
    "import neat\n",
    "import numpy as np\n",
    "from Neat.evaluation_util import DataManager\n",
    "from Neat.selection_util import TournamentReproduction, FitnessPropReproduction\n",
    "from data_load_util import load_state_data, make_dataset\n",
    "from tqdm import tqdm\n",
    "import random\n",
    "from Neat.saving_util import *\n",
    "from Neat.neat_util import *"
   ]
  },
  {
   "cell_type": "code",
   "execution_count": 2,
   "metadata": {},
   "outputs": [
    {
     "name": "stdout",
     "output_type": "stream",
     "text": [
      "Loading Data\n",
      "number of zip codes: 10559\n",
      "number of zip codes with solar data: 10559\n",
      "number of zip codes with census data: 10559\n",
      "Removing Outliers\n",
      "zips after removing outliers: 7795\n"
     ]
    }
   ],
   "source": [
    "config_path = 'Neat/neat-config'\n",
    "\n",
    "#load datasets\n",
    "combined_df = make_dataset(remove_outliers=True)\n",
    "state_df = load_state_data(combined_df, load=\"Clean_Data/data_by_state.csv\")\n",
    "data_manager = DataManager(combined_df, state_df)\n",
    "k_folds = 5"
   ]
  },
  {
   "cell_type": "code",
   "execution_count": null,
   "metadata": {},
   "outputs": [
    {
     "name": "stdout",
     "output_type": "stream",
     "text": [
      "NUM_PANELS=[100000, 1000000] NUM_GENERATIONS=30 METRIC_WEIGHTS=[1, 1] OVERALL_THRESHOLD=0.3\n",
      "loading configuration...\n",
      "creating population...\n",
      "setting reporters...\n",
      "training model...\n",
      "\n",
      " ****** Running generation 0 ****** \n",
      "\n"
     ]
    },
    {
     "name": "stderr",
     "output_type": "stream",
     "text": [
      "  0%|          | 0/30 [00:00<?, ?it/s]"
     ]
    },
    {
     "name": "stderr",
     "output_type": "stream",
     "text": [
      "100%|██████████| 30/30 [01:30<00:00,  3.01s/it]\n"
     ]
    },
    {
     "name": "stdout",
     "output_type": "stream",
     "text": [
      "Population's average fitness: 0.38655 stdev: 0.59380\n",
      "Best fitness: 1.49082 - size: (1, 6) - species 1 - id 30\n",
      "Average adjusted fitness: 0.259\n",
      "Mean genetic distance 1.357, standard deviation 0.394\n",
      "Population of 30 members in 1 species:\n",
      "   ID   age  size  fitness  adj fit  stag\n",
      "  ====  ===  ====  =======  =======  ====\n",
      "     1    0    30      1.5    0.259     0\n",
      "Total extinctions: 0\n",
      "Generation time: 227.346 sec\n",
      "\n",
      " ****** Running generation 1 ****** \n",
      "\n"
     ]
    },
    {
     "name": "stderr",
     "output_type": "stream",
     "text": [
      "100%|██████████| 30/30 [01:31<00:00,  3.04s/it]\n"
     ]
    },
    {
     "name": "stdout",
     "output_type": "stream",
     "text": [
      "Population's average fitness: 0.40871 stdev: 0.63044\n",
      "Best fitness: 1.56196 - size: (1, 6) - species 1 - id 47\n",
      "Average adjusted fitness: 0.262\n",
      "Mean genetic distance 1.349, standard deviation 0.490\n",
      "Population of 30 members in 1 species:\n",
      "   ID   age  size  fitness  adj fit  stag\n",
      "  ====  ===  ====  =======  =======  ====\n",
      "     1    1    30      1.6    0.262     0\n",
      "Total extinctions: 0\n",
      "Generation time: 228.684 sec (228.015 average)\n",
      "\n",
      " ****** Running generation 2 ****** \n",
      "\n"
     ]
    },
    {
     "name": "stderr",
     "output_type": "stream",
     "text": [
      "100%|██████████| 30/30 [01:31<00:00,  3.06s/it]\n"
     ]
    },
    {
     "name": "stdout",
     "output_type": "stream",
     "text": [
      "Population's average fitness: 0.45433 stdev: 0.69438\n",
      "Best fitness: 1.56721 - size: (1, 4) - species 1 - id 86\n",
      "Average adjusted fitness: 0.290\n",
      "Mean genetic distance 1.488, standard deviation 0.451\n",
      "Population of 30 members in 1 species:\n",
      "   ID   age  size  fitness  adj fit  stag\n",
      "  ====  ===  ====  =======  =======  ====\n",
      "     1    2    30      1.6    0.290     0\n",
      "Total extinctions: 0\n",
      "Generation time: 238.464 sec (231.498 average)\n",
      "\n",
      " ****** Running generation 3 ****** \n",
      "\n"
     ]
    },
    {
     "name": "stderr",
     "output_type": "stream",
     "text": [
      "100%|██████████| 30/30 [01:33<00:00,  3.10s/it]\n"
     ]
    },
    {
     "name": "stdout",
     "output_type": "stream",
     "text": [
      "Population's average fitness: 0.46349 stdev: 0.70806\n",
      "Best fitness: 1.56721 - size: (1, 4) - species 1 - id 86\n",
      "Average adjusted fitness: 0.296\n",
      "Mean genetic distance 2.034, standard deviation 0.631\n",
      "Population of 30 members in 2 species:\n",
      "   ID   age  size  fitness  adj fit  stag\n",
      "  ====  ===  ====  =======  =======  ====\n",
      "     1    3    16      1.6    0.296     1\n",
      "     2    0    14       --       --     0\n",
      "Total extinctions: 0\n",
      "Generation time: 235.531 sec (232.506 average)\n",
      "\n",
      " ****** Running generation 4 ****** \n",
      "\n"
     ]
    },
    {
     "name": "stderr",
     "output_type": "stream",
     "text": [
      "100%|██████████| 30/30 [01:33<00:00,  3.12s/it]\n"
     ]
    },
    {
     "name": "stdout",
     "output_type": "stream",
     "text": [
      "Population's average fitness: 0.45986 stdev: 0.70267\n",
      "Best fitness: 1.57729 - size: (3, 7) - species 1 - id 132\n",
      "Average adjusted fitness: 0.291\n",
      "Mean genetic distance 1.935, standard deviation 0.663\n",
      "Population of 30 members in 2 species:\n",
      "   ID   age  size  fitness  adj fit  stag\n",
      "  ====  ===  ====  =======  =======  ====\n",
      "     1    4    13      1.6    0.302     0\n",
      "     2    1    17      1.6    0.279     0\n",
      "Total extinctions: 0\n",
      "Generation time: 261.074 sec (238.220 average)\n",
      "\n",
      " ****** Running generation 5 ****** \n",
      "\n"
     ]
    },
    {
     "name": "stderr",
     "output_type": "stream",
     "text": [
      "100%|██████████| 30/30 [02:13<00:00,  4.45s/it]\n"
     ]
    },
    {
     "name": "stdout",
     "output_type": "stream",
     "text": [
      "Population's average fitness: 0.45893 stdev: 0.70117\n",
      "Best fitness: 1.56391 - size: (1, 4) - species 2 - id 149\n",
      "Average adjusted fitness: 0.294\n",
      "Mean genetic distance 1.820, standard deviation 0.599\n",
      "Population of 30 members in 2 species:\n",
      "   ID   age  size  fitness  adj fit  stag\n",
      "  ====  ===  ====  =======  =======  ====\n",
      "     1    5    16      1.5    0.297     1\n",
      "     2    2    14      1.6    0.291     1\n",
      "Total extinctions: 0\n",
      "Generation time: 336.226 sec (254.554 average)\n",
      "Saving checkpoint to Neat/checkpoints/neat-checkpoint-5\n",
      "\n",
      " ****** Running generation 6 ****** \n",
      "\n"
     ]
    },
    {
     "name": "stderr",
     "output_type": "stream",
     "text": [
      "100%|██████████| 30/30 [02:27<00:00,  4.92s/it]\n"
     ]
    },
    {
     "name": "stdout",
     "output_type": "stream",
     "text": [
      "Population's average fitness: 0.46424 stdev: 0.70920\n",
      "Best fitness: 1.56709 - size: (1, 4) - species 2 - id 197\n",
      "Average adjusted fitness: 0.304\n",
      "Mean genetic distance 1.910, standard deviation 0.423\n",
      "Population of 30 members in 2 species:\n",
      "   ID   age  size  fitness  adj fit  stag\n",
      "  ====  ===  ====  =======  =======  ====\n",
      "     1    6    16      1.6    0.185     2\n",
      "     2    3    14      1.6    0.423     2\n",
      "Total extinctions: 0\n",
      "Generation time: 361.681 sec (269.858 average)\n",
      "\n",
      " ****** Running generation 7 ****** \n",
      "\n"
     ]
    },
    {
     "name": "stderr",
     "output_type": "stream",
     "text": [
      "100%|██████████| 30/30 [02:40<00:00,  5.34s/it]\n"
     ]
    },
    {
     "name": "stdout",
     "output_type": "stream",
     "text": [
      "Population's average fitness: 0.46503 stdev: 0.71039\n",
      "Best fitness: 1.57320 - size: (2, 5) - species 1 - id 218\n",
      "Average adjusted fitness: 0.299\n",
      "Mean genetic distance 1.859, standard deviation 0.466\n",
      "Population of 30 members in 2 species:\n",
      "   ID   age  size  fitness  adj fit  stag\n",
      "  ====  ===  ====  =======  =======  ====\n",
      "     1    7    11      1.6    0.246     3\n",
      "     2    4    19      1.6    0.352     3\n",
      "Total extinctions: 0\n",
      "Generation time: 392.438 sec (285.181 average)\n",
      "\n",
      " ****** Running generation 8 ****** \n",
      "\n"
     ]
    },
    {
     "name": "stderr",
     "output_type": "stream",
     "text": [
      " 93%|█████████▎| 28/30 [02:39<00:11,  5.58s/it]"
     ]
    }
   ],
   "source": [
    "#single model run\n",
    "network = run(config_path, eval_genomes_lexicase)\n",
    "save_model(network, model_name=\"NEAT_model_no_equity.pkl\")\n",
    "cv_order = run_network(network, data_manager, cross_val=True)"
   ]
  },
  {
   "cell_type": "code",
   "execution_count": null,
   "metadata": {},
   "outputs": [],
   "source": [
    "\n",
    "#run lexicase\n",
    "lexi_network, lexi_results = K_fold_run(config_path, data_manager, eval_genomes_lexicase, k=k_folds)\n",
    "save_model(lexi_network, lexi_results, model_name=\"NEAT_model_lexicase.pkl\", results_name=\"lexicase_results.pkl\")\n"
   ]
  },
  {
   "cell_type": "code",
   "execution_count": null,
   "metadata": {},
   "outputs": [],
   "source": [
    "\n",
    "#run fitness prop\n",
    "fp_network, fp_results = K_fold_run(config_path, data_manager, eval_genomes_weighted_sum, reproduction_method=FitnessPropReproduction, k=k_folds)\n",
    "save_model(fp_network, fp_results, model_name=\"NEAT_model_fitness_prop.pkl\", results_name=\"fitness_prop_results.pkl\")\n"
   ]
  },
  {
   "cell_type": "code",
   "execution_count": null,
   "metadata": {},
   "outputs": [],
   "source": [
    "\n",
    "#tournament selection\n",
    "tourney_network, tourney_results = K_fold_run(config_path, data_manager, eval_genomes_weighted_sum, reproduction_method=TournamentReproduction, k=k_folds)\n",
    "save_model(tourney_network, tourney_results, model_name=\"NEAT_model_tournament.pkl\", results_name=\"tournament_results.pkl\")\n"
   ]
  },
  {
   "cell_type": "code",
   "execution_count": 5,
   "metadata": {},
   "outputs": [],
   "source": [
    "\n",
    "# #run random selection\n",
    "# rand_network, rand_results = K_fold_run(config_path, data_manager, eval_genomes_random, k=k_folds)\n",
    "# save_model(rand_network, model_name=\"NEAT_model_random.pkl\")\n"
   ]
  },
  {
   "cell_type": "code",
   "execution_count": null,
   "metadata": {},
   "outputs": [],
   "source": [
    "# with open(\"NEAT/models/NEAT benchmark experiment/tournament_results.pkl\", \"wb\") as f:\n",
    "#     pickle.dump(tourney_results, f)"
   ]
  },
  {
   "cell_type": "markdown",
   "metadata": {},
   "source": [
    "Run without K-fold\n"
   ]
  },
  {
   "cell_type": "code",
   "execution_count": 4,
   "metadata": {},
   "outputs": [],
   "source": [
    "def get_scores(cv_order):\n",
    "    IE = data_manager.score(cv_order, 'income_equity', NUM_PANELS, train=True)\n",
    "    RE = data_manager.score(cv_order, 'racial_equity', NUM_PANELS, train=True)\n",
    "    CO = data_manager.score(cv_order, 'carbon_offset', NUM_PANELS, train=True)\n",
    "    EG = data_manager.score(cv_order, 'energy_generation', NUM_PANELS, train=True)\n",
    "    return [IE, RE, CO, EG]"
   ]
  },
  {
   "cell_type": "code",
   "execution_count": null,
   "metadata": {},
   "outputs": [],
   "source": [
    "# lexicase\n",
    "lexi_network = run(config_path, eval_genomes_lexicase)\n",
    "cv_order = run_network(lexi_network, data_manager)\n",
    "lexi_results = get_scores(cv_order)\n",
    "save_model(lexi_network, lexi_results, model_name=\"NEAT_model_lexicase.pkl\", results_name=\"lexicase_results.pkl\")"
   ]
  },
  {
   "cell_type": "code",
   "execution_count": null,
   "metadata": {},
   "outputs": [
    {
     "name": "stdout",
     "output_type": "stream",
     "text": [
      "NUM_PANELS=[100000, 1000000] NUM_GENERATIONS=30 METRIC_WEIGHTS=[1, 1, 1, 1] OVERALL_THRESHOLD=0.3\n",
      "loading configuration...\n",
      "creating population...\n",
      "setting reporters...\n",
      "training model...\n",
      "\n",
      " ****** Running generation 0 ****** \n",
      "\n"
     ]
    },
    {
     "name": "stderr",
     "output_type": "stream",
     "text": [
      "100%|██████████| 20/20 [01:02<00:00,  3.11s/it]\n"
     ]
    },
    {
     "name": "stdout",
     "output_type": "stream",
     "text": [
      "Population's average fitness: 2.05488 stdev: 0.59072\n",
      "Best fitness: 3.37913 - size: (1, 6) - species 1 - id 14\n",
      "Average adjusted fitness: 0.467\n",
      "Mean genetic distance 1.155, standard deviation 0.358\n",
      "Population of 20 members in 1 species:\n",
      "   ID   age  size  fitness  adj fit  stag\n",
      "  ====  ===  ====  =======  =======  ====\n",
      "     1    0    20      3.4    0.467     0\n",
      "Total extinctions: 0\n",
      "Generation time: 230.836 sec\n",
      "\n",
      " ****** Running generation 1 ****** \n",
      "\n"
     ]
    },
    {
     "name": "stderr",
     "output_type": "stream",
     "text": [
      "100%|██████████| 20/20 [01:03<00:00,  3.15s/it]\n"
     ]
    },
    {
     "name": "stdout",
     "output_type": "stream",
     "text": [
      "Population's average fitness: 2.50715 stdev: 0.46887\n",
      "Best fitness: 3.38976 - size: (1, 5) - species 1 - id 39\n",
      "Average adjusted fitness: 0.585\n",
      "Mean genetic distance 1.034, standard deviation 0.345\n",
      "Population of 20 members in 1 species:\n",
      "   ID   age  size  fitness  adj fit  stag\n",
      "  ====  ===  ====  =======  =======  ====\n",
      "     1    1    20      3.4    0.585     0\n",
      "Total extinctions: 0\n",
      "Generation time: 229.804 sec (230.320 average)\n",
      "\n",
      " ****** Running generation 2 ****** \n",
      "\n"
     ]
    },
    {
     "name": "stderr",
     "output_type": "stream",
     "text": [
      "100%|██████████| 20/20 [01:01<00:00,  3.09s/it]\n"
     ]
    },
    {
     "name": "stdout",
     "output_type": "stream",
     "text": [
      "Population's average fitness: 2.84960 stdev: 0.40794\n",
      "Best fitness: 3.38806 - size: (2, 7) - species 1 - id 42\n",
      "Average adjusted fitness: 0.650\n",
      "Mean genetic distance 1.448, standard deviation 0.437\n",
      "Population of 20 members in 1 species:\n",
      "   ID   age  size  fitness  adj fit  stag\n",
      "  ====  ===  ====  =======  =======  ====\n",
      "     1    2    20      3.4    0.650     1\n",
      "Total extinctions: 0\n",
      "Generation time: 210.988 sec (223.876 average)\n",
      "\n",
      " ****** Running generation 3 ****** \n",
      "\n"
     ]
    },
    {
     "name": "stderr",
     "output_type": "stream",
     "text": [
      "100%|██████████| 20/20 [01:03<00:00,  3.16s/it]\n"
     ]
    },
    {
     "name": "stdout",
     "output_type": "stream",
     "text": [
      "Population's average fitness: 3.02525 stdev: 0.36752\n",
      "Best fitness: 3.39310 - size: (1, 5) - species 1 - id 75\n",
      "Average adjusted fitness: 0.730\n",
      "Mean genetic distance 1.552, standard deviation 0.429\n",
      "Population of 20 members in 1 species:\n",
      "   ID   age  size  fitness  adj fit  stag\n",
      "  ====  ===  ====  =======  =======  ====\n",
      "     1    3    20      3.4    0.730     0\n",
      "Total extinctions: 0\n",
      "Generation time: 242.231 sec (228.465 average)\n",
      "\n",
      " ****** Running generation 4 ****** \n",
      "\n"
     ]
    },
    {
     "name": "stderr",
     "output_type": "stream",
     "text": [
      "100%|██████████| 20/20 [01:01<00:00,  3.10s/it]\n"
     ]
    },
    {
     "name": "stdout",
     "output_type": "stream",
     "text": [
      "Population's average fitness: 3.08154 stdev: 0.25340\n",
      "Best fitness: 3.37281 - size: (1, 4) - species 1 - id 94\n",
      "Average adjusted fitness: 0.602\n",
      "Mean genetic distance 1.216, standard deviation 0.413\n",
      "Population of 20 members in 1 species:\n",
      "   ID   age  size  fitness  adj fit  stag\n",
      "  ====  ===  ====  =======  =======  ====\n",
      "     1    4    20      3.4    0.602     1\n",
      "Total extinctions: 0\n",
      "Generation time: 233.025 sec (229.377 average)\n",
      "\n",
      " ****** Running generation 5 ****** \n",
      "\n"
     ]
    },
    {
     "name": "stderr",
     "output_type": "stream",
     "text": [
      "100%|██████████| 20/20 [01:03<00:00,  3.19s/it]\n"
     ]
    },
    {
     "name": "stdout",
     "output_type": "stream",
     "text": [
      "Population's average fitness: 3.06740 stdev: 0.59727\n",
      "Best fitness: 3.40378 - size: (1, 4) - species 1 - id 94\n",
      "Average adjusted fitness: 0.831\n",
      "Mean genetic distance 1.220, standard deviation 0.389\n",
      "Population of 20 members in 1 species:\n",
      "   ID   age  size  fitness  adj fit  stag\n",
      "  ====  ===  ====  =======  =======  ====\n",
      "     1    5    20      3.4    0.831     0\n",
      "Total extinctions: 0\n",
      "Generation time: 267.975 sec (235.810 average)\n",
      "Saving checkpoint to Neat/checkpoints/neat-checkpoint-5\n",
      "\n",
      " ****** Running generation 6 ****** \n",
      "\n"
     ]
    },
    {
     "name": "stderr",
     "output_type": "stream",
     "text": [
      "100%|██████████| 20/20 [01:03<00:00,  3.17s/it]\n"
     ]
    },
    {
     "name": "stdout",
     "output_type": "stream",
     "text": [
      "Population's average fitness: 3.10443 stdev: 0.60469\n",
      "Best fitness: 3.40474 - size: (1, 4) - species 1 - id 94\n",
      "Average adjusted fitness: 0.852\n",
      "Mean genetic distance 1.192, standard deviation 0.451\n",
      "Population of 20 members in 1 species:\n",
      "   ID   age  size  fitness  adj fit  stag\n",
      "  ====  ===  ====  =======  =======  ====\n",
      "     1    6    20      3.4    0.852     0\n",
      "Total extinctions: 0\n",
      "Generation time: 268.760 sec (240.517 average)\n",
      "\n",
      " ****** Running generation 7 ****** \n",
      "\n"
     ]
    },
    {
     "name": "stderr",
     "output_type": "stream",
     "text": [
      "100%|██████████| 20/20 [01:03<00:00,  3.19s/it]\n"
     ]
    },
    {
     "name": "stdout",
     "output_type": "stream",
     "text": [
      "Population's average fitness: 3.21355 stdev: 0.12878\n",
      "Best fitness: 3.36664 - size: (1, 3) - species 1 - id 137\n",
      "Average adjusted fitness: 0.383\n",
      "Mean genetic distance 1.156, standard deviation 0.468\n",
      "Population of 20 members in 1 species:\n",
      "   ID   age  size  fitness  adj fit  stag\n",
      "  ====  ===  ====  =======  =======  ====\n",
      "     1    7    20      3.4    0.383     1\n",
      "Total extinctions: 0\n",
      "Generation time: 162.957 sec (230.822 average)\n",
      "\n",
      " ****** Running generation 8 ****** \n",
      "\n"
     ]
    },
    {
     "name": "stderr",
     "output_type": "stream",
     "text": [
      "100%|██████████| 20/20 [01:02<00:00,  3.13s/it]\n"
     ]
    },
    {
     "name": "stdout",
     "output_type": "stream",
     "text": [
      "Population's average fitness: 3.12575 stdev: 0.44820\n",
      "Best fitness: 3.39305 - size: (1, 2) - species 1 - id 155\n",
      "Average adjusted fitness: 0.849\n",
      "Mean genetic distance 1.204, standard deviation 0.412\n",
      "Population of 20 members in 1 species:\n",
      "   ID   age  size  fitness  adj fit  stag\n",
      "  ====  ===  ====  =======  =======  ====\n",
      "     1    8    20      3.4    0.849     2\n",
      "Total extinctions: 0\n",
      "Generation time: 252.165 sec (233.194 average)\n",
      "\n",
      " ****** Running generation 9 ****** \n",
      "\n"
     ]
    },
    {
     "name": "stderr",
     "output_type": "stream",
     "text": [
      "100%|██████████| 20/20 [01:02<00:00,  3.14s/it]\n"
     ]
    },
    {
     "name": "stdout",
     "output_type": "stream",
     "text": [
      "Population's average fitness: 2.88979 stdev: 0.52702\n",
      "Best fitness: 3.33927 - size: (1, 4) - species 1 - id 173\n",
      "Average adjusted fitness: 0.760\n",
      "Mean genetic distance 1.212, standard deviation 0.466\n",
      "Population of 20 members in 1 species:\n",
      "   ID   age  size  fitness  adj fit  stag\n",
      "  ====  ===  ====  =======  =======  ====\n",
      "     1    9    20      3.3    0.760     3\n",
      "Total extinctions: 0\n",
      "Generation time: 127.822 sec (222.656 average)\n",
      "\n",
      " ****** Running generation 10 ****** \n",
      "\n"
     ]
    },
    {
     "name": "stderr",
     "output_type": "stream",
     "text": [
      "100%|██████████| 20/20 [01:03<00:00,  3.18s/it]\n"
     ]
    },
    {
     "name": "stdout",
     "output_type": "stream",
     "text": [
      "Population's average fitness: 3.05286 stdev: 0.52904\n",
      "Best fitness: 3.36813 - size: (1, 5) - species 1 - id 208\n",
      "Average adjusted fitness: 0.852\n",
      "Mean genetic distance 1.017, standard deviation 0.278\n",
      "Population of 20 members in 1 species:\n",
      "   ID   age  size  fitness  adj fit  stag\n",
      "  ====  ===  ====  =======  =======  ====\n",
      "     1   10    20      3.4    0.852     4\n",
      "Total extinctions: 0\n",
      "Generation time: 139.624 sec (213.535 average)\n",
      "\n",
      " ****** Running generation 11 ****** \n",
      "\n"
     ]
    },
    {
     "name": "stderr",
     "output_type": "stream",
     "text": [
      "100%|██████████| 20/20 [01:04<00:00,  3.20s/it]\n"
     ]
    },
    {
     "name": "stdout",
     "output_type": "stream",
     "text": [
      "Population's average fitness: 3.17494 stdev: 0.23583\n",
      "Best fitness: 3.36575 - size: (1, 3) - species 1 - id 229\n",
      "Average adjusted fitness: 0.812\n",
      "Mean genetic distance 1.335, standard deviation 0.366\n",
      "Population of 20 members in 1 species:\n",
      "   ID   age  size  fitness  adj fit  stag\n",
      "  ====  ===  ====  =======  =======  ====\n",
      "     1   11    20      3.4    0.812     5\n",
      "Total extinctions: 0\n",
      "Generation time: 179.491 sec (208.504 average)\n",
      "\n",
      " ****** Running generation 12 ****** \n",
      "\n"
     ]
    },
    {
     "name": "stderr",
     "output_type": "stream",
     "text": [
      "100%|██████████| 20/20 [01:02<00:00,  3.15s/it]\n"
     ]
    },
    {
     "name": "stdout",
     "output_type": "stream",
     "text": [
      "Population's average fitness: 3.04449 stdev: 0.28860\n",
      "Best fitness: 3.32859 - size: (1, 3) - species 1 - id 231\n",
      "Average adjusted fitness: 0.781\n",
      "Mean genetic distance 1.271, standard deviation 0.439\n",
      "Population of 20 members in 1 species:\n",
      "   ID   age  size  fitness  adj fit  stag\n",
      "  ====  ===  ====  =======  =======  ====\n",
      "     1   12    20      3.3    0.781     6\n",
      "Total extinctions: 0\n",
      "Generation time: 93.523 sec (196.757 average)\n",
      "Saving checkpoint to Neat/checkpoints/neat-checkpoint-12\n",
      "\n",
      " ****** Running generation 13 ****** \n",
      "\n"
     ]
    },
    {
     "name": "stderr",
     "output_type": "stream",
     "text": [
      "100%|██████████| 20/20 [01:01<00:00,  3.09s/it]\n"
     ]
    },
    {
     "name": "stdout",
     "output_type": "stream",
     "text": [
      "Population's average fitness: 2.98777 stdev: 0.54998\n",
      "Best fitness: 3.39321 - size: (1, 2) - species 1 - id 260\n",
      "Average adjusted fitness: 0.813\n",
      "Mean genetic distance 1.237, standard deviation 0.344\n",
      "Population of 20 members in 1 species:\n",
      "   ID   age  size  fitness  adj fit  stag\n",
      "  ====  ===  ====  =======  =======  ====\n",
      "     1   13    20      3.4    0.813     7\n",
      "Total extinctions: 0\n",
      "Generation time: 254.479 sec (197.982 average)\n",
      "\n",
      " ****** Running generation 14 ****** \n",
      "\n"
     ]
    },
    {
     "name": "stderr",
     "output_type": "stream",
     "text": [
      "100%|██████████| 20/20 [01:03<00:00,  3.17s/it]\n"
     ]
    },
    {
     "name": "stdout",
     "output_type": "stream",
     "text": [
      "Population's average fitness: 3.00540 stdev: 0.52814\n",
      "Best fitness: 3.38878 - size: (1, 2) - species 1 - id 285\n",
      "Average adjusted fitness: 0.815\n",
      "Mean genetic distance 1.261, standard deviation 0.375\n",
      "Population of 20 members in 1 species:\n",
      "   ID   age  size  fitness  adj fit  stag\n",
      "  ====  ===  ====  =======  =======  ====\n",
      "     1   14    20      3.4    0.815     8\n",
      "Total extinctions: 0\n",
      "Generation time: 188.900 sec (193.570 average)\n",
      "\n",
      " ****** Running generation 15 ****** \n",
      "\n"
     ]
    },
    {
     "name": "stderr",
     "output_type": "stream",
     "text": [
      "100%|██████████| 20/20 [01:01<00:00,  3.07s/it]\n"
     ]
    },
    {
     "name": "stdout",
     "output_type": "stream",
     "text": [
      "Population's average fitness: 3.00405 stdev: 0.52825\n",
      "Best fitness: 3.40554 - size: (1, 3) - species 1 - id 296\n",
      "Average adjusted fitness: 0.791\n",
      "Mean genetic distance 1.006, standard deviation 0.436\n",
      "Population of 20 members in 1 species:\n",
      "   ID   age  size  fitness  adj fit  stag\n",
      "  ====  ===  ====  =======  =======  ====\n",
      "     1   15    20      3.4    0.791     0\n",
      "Total extinctions: 0\n",
      "Generation time: 203.738 sec (187.146 average)\n",
      "\n",
      " ****** Running generation 16 ****** \n",
      "\n"
     ]
    },
    {
     "name": "stderr",
     "output_type": "stream",
     "text": [
      "100%|██████████| 20/20 [01:02<00:00,  3.11s/it]\n"
     ]
    },
    {
     "name": "stdout",
     "output_type": "stream",
     "text": [
      "Population's average fitness: 3.02691 stdev: 0.59652\n",
      "Best fitness: 3.41721 - size: (1, 3) - species 1 - id 311\n",
      "Average adjusted fitness: 0.832\n",
      "Mean genetic distance 1.160, standard deviation 0.463\n",
      "Population of 20 members in 1 species:\n",
      "   ID   age  size  fitness  adj fit  stag\n",
      "  ====  ===  ====  =======  =======  ====\n",
      "     1   16    20      3.4    0.832     0\n",
      "Total extinctions: 0\n",
      "Generation time: 172.471 sec (177.517 average)\n",
      "\n",
      " ****** Running generation 17 ****** \n",
      "\n"
     ]
    },
    {
     "name": "stderr",
     "output_type": "stream",
     "text": [
      "100%|██████████| 20/20 [01:02<00:00,  3.13s/it]\n"
     ]
    },
    {
     "name": "stdout",
     "output_type": "stream",
     "text": [
      "Population's average fitness: 3.01071 stdev: 0.49045\n",
      "Best fitness: 3.41760 - size: (1, 3) - species 1 - id 339\n",
      "Average adjusted fitness: 0.731\n",
      "Mean genetic distance 1.297, standard deviation 0.370\n",
      "Population of 20 members in 1 species:\n",
      "   ID   age  size  fitness  adj fit  stag\n",
      "  ====  ===  ====  =======  =======  ====\n",
      "     1   17    20      3.4    0.731     0\n",
      "Total extinctions: 0\n",
      "Generation time: 221.322 sec (183.354 average)\n",
      "\n",
      " ****** Running generation 18 ****** \n",
      "\n"
     ]
    },
    {
     "name": "stderr",
     "output_type": "stream",
     "text": [
      "100%|██████████| 20/20 [01:02<00:00,  3.11s/it]\n"
     ]
    },
    {
     "name": "stdout",
     "output_type": "stream",
     "text": [
      "Population's average fitness: 2.72801 stdev: 0.69045\n",
      "Best fitness: 3.33870 - size: (1, 3) - species 1 - id 360\n",
      "Average adjusted fitness: 0.698\n",
      "Mean genetic distance 1.191, standard deviation 0.269\n",
      "Population of 20 members in 1 species:\n",
      "   ID   age  size  fitness  adj fit  stag\n",
      "  ====  ===  ====  =======  =======  ====\n",
      "     1   18    20      3.3    0.698     1\n",
      "Total extinctions: 0\n",
      "Generation time: 109.922 sec (169.129 average)\n",
      "\n",
      " ****** Running generation 19 ****** \n",
      "\n"
     ]
    },
    {
     "name": "stderr",
     "output_type": "stream",
     "text": [
      "100%|██████████| 20/20 [01:03<00:00,  3.17s/it]\n"
     ]
    },
    {
     "name": "stdout",
     "output_type": "stream",
     "text": [
      "Population's average fitness: 2.73275 stdev: 0.51351\n",
      "Best fitness: 3.39065 - size: (1, 2) - species 1 - id 381\n",
      "Average adjusted fitness: 0.658\n",
      "Mean genetic distance 1.485, standard deviation 0.372\n",
      "Population of 20 members in 1 species:\n",
      "   ID   age  size  fitness  adj fit  stag\n",
      "  ====  ===  ====  =======  =======  ====\n",
      "     1   19    20      3.4    0.658     2\n",
      "Total extinctions: 0\n",
      "Generation time: 255.987 sec (181.946 average)\n",
      "Saving checkpoint to Neat/checkpoints/neat-checkpoint-19\n",
      "\n",
      " ****** Running generation 20 ****** \n",
      "\n"
     ]
    },
    {
     "name": "stderr",
     "output_type": "stream",
     "text": [
      "100%|██████████| 20/20 [01:03<00:00,  3.16s/it]\n"
     ]
    },
    {
     "name": "stdout",
     "output_type": "stream",
     "text": [
      "Population's average fitness: 2.89829 stdev: 0.67528\n",
      "Best fitness: 3.43428 - size: (1, 2) - species 1 - id 381\n",
      "Average adjusted fitness: 0.759\n",
      "Mean genetic distance 1.707, standard deviation 0.371\n",
      "Population of 20 members in 1 species:\n",
      "   ID   age  size  fitness  adj fit  stag\n",
      "  ====  ===  ====  =======  =======  ====\n",
      "     1   20    20      3.4    0.759     0\n",
      "Total extinctions: 0\n",
      "Generation time: 192.431 sec (187.226 average)\n",
      "\n",
      " ****** Running generation 21 ****** \n",
      "\n"
     ]
    },
    {
     "name": "stderr",
     "output_type": "stream",
     "text": [
      "100%|██████████| 20/20 [01:03<00:00,  3.16s/it]\n"
     ]
    },
    {
     "name": "stdout",
     "output_type": "stream",
     "text": [
      "Population's average fitness: 3.08437 stdev: 0.50057\n",
      "Best fitness: 3.36246 - size: (1, 2) - species 1 - id 419\n",
      "Average adjusted fitness: 0.872\n",
      "Mean genetic distance 1.537, standard deviation 0.469\n",
      "Population of 20 members in 1 species:\n",
      "   ID   age  size  fitness  adj fit  stag\n",
      "  ====  ===  ====  =======  =======  ====\n",
      "     1   21    20      3.4    0.872     1\n",
      "Total extinctions: 0\n",
      "Generation time: 153.148 sec (184.592 average)\n",
      "\n",
      " ****** Running generation 22 ****** \n",
      "\n"
     ]
    },
    {
     "name": "stderr",
     "output_type": "stream",
     "text": [
      "100%|██████████| 20/20 [01:03<00:00,  3.15s/it]\n"
     ]
    },
    {
     "name": "stdout",
     "output_type": "stream",
     "text": [
      "Population's average fitness: 3.06883 stdev: 0.53883\n",
      "Best fitness: 3.40214 - size: (1, 2) - species 1 - id 435\n",
      "Average adjusted fitness: 0.853\n",
      "Mean genetic distance 1.410, standard deviation 0.427\n",
      "Population of 20 members in 1 species:\n",
      "   ID   age  size  fitness  adj fit  stag\n",
      "  ====  ===  ====  =======  =======  ====\n",
      "     1   22    20      3.4    0.853     2\n",
      "Total extinctions: 0\n",
      "Generation time: 216.215 sec (196.861 average)\n",
      "\n",
      " ****** Running generation 23 ****** \n",
      "\n"
     ]
    },
    {
     "name": "stderr",
     "output_type": "stream",
     "text": [
      "100%|██████████| 20/20 [01:03<00:00,  3.19s/it]\n"
     ]
    },
    {
     "name": "stdout",
     "output_type": "stream",
     "text": [
      "Population's average fitness: 2.96409 stdev: 0.62719\n",
      "Best fitness: 3.30967 - size: (1, 2) - species 1 - id 443\n",
      "Average adjusted fitness: 0.810\n",
      "Mean genetic distance 1.435, standard deviation 0.528\n",
      "Population of 20 members in 1 species:\n",
      "   ID   age  size  fitness  adj fit  stag\n",
      "  ====  ===  ====  =======  =======  ====\n",
      "     1   23    20      3.3    0.810     3\n",
      "Total extinctions: 0\n",
      "Generation time: 119.735 sec (183.387 average)\n",
      "\n",
      " ****** Running generation 24 ****** \n",
      "\n"
     ]
    },
    {
     "name": "stderr",
     "output_type": "stream",
     "text": [
      "100%|██████████| 20/20 [01:03<00:00,  3.15s/it]\n"
     ]
    },
    {
     "name": "stdout",
     "output_type": "stream",
     "text": [
      "Population's average fitness: 2.74334 stdev: 0.77005\n",
      "Best fitness: 3.39672 - size: (1, 2) - species 1 - id 458\n",
      "Average adjusted fitness: 0.693\n",
      "Mean genetic distance 1.424, standard deviation 0.506\n",
      "Population of 20 members in 1 species:\n",
      "   ID   age  size  fitness  adj fit  stag\n",
      "  ====  ===  ====  =======  =======  ====\n",
      "     1   24    20      3.4    0.693     4\n",
      "Total extinctions: 0\n",
      "Generation time: 255.188 sec (190.016 average)\n",
      "\n",
      " ****** Running generation 25 ****** \n",
      "\n"
     ]
    },
    {
     "name": "stderr",
     "output_type": "stream",
     "text": [
      "100%|██████████| 20/20 [01:01<00:00,  3.09s/it]\n"
     ]
    },
    {
     "name": "stdout",
     "output_type": "stream",
     "text": [
      "Population's average fitness: 2.70639 stdev: 0.76153\n",
      "Best fitness: 3.40312 - size: (1, 2) - species 1 - id 478\n",
      "Average adjusted fitness: 0.694\n",
      "Mean genetic distance 1.725, standard deviation 0.876\n",
      "Population of 20 members in 2 species:\n",
      "   ID   age  size  fitness  adj fit  stag\n",
      "  ====  ===  ====  =======  =======  ====\n",
      "     1   25    18      3.4    0.694     5\n",
      "     2    0     2       --       --     0\n",
      "Total extinctions: 0\n",
      "Generation time: 204.349 sec (190.077 average)\n",
      "\n",
      " ****** Running generation 26 ****** \n",
      "\n"
     ]
    },
    {
     "name": "stderr",
     "output_type": "stream",
     "text": [
      "100%|██████████| 20/20 [01:03<00:00,  3.18s/it]\n"
     ]
    },
    {
     "name": "stdout",
     "output_type": "stream",
     "text": [
      "Population's average fitness: 3.02997 stdev: 0.48374\n",
      "Best fitness: 3.43447 - size: (1, 2) - species 1 - id 478\n",
      "Average adjusted fitness: 0.617\n",
      "Mean genetic distance 1.938, standard deviation 1.028\n",
      "Population of 20 members in 2 species:\n",
      "   ID   age  size  fitness  adj fit  stag\n",
      "  ====  ===  ====  =======  =======  ====\n",
      "     1   26    16      3.4    0.840     0\n",
      "     2    1     4      2.3    0.395     0\n",
      "Total extinctions: 0\n",
      "Generation time: 193.980 sec (192.228 average)\n",
      "Saving checkpoint to Neat/checkpoints/neat-checkpoint-26\n",
      "\n",
      " ****** Running generation 27 ****** \n",
      "\n"
     ]
    },
    {
     "name": "stderr",
     "output_type": "stream",
     "text": [
      "100%|██████████| 20/20 [01:03<00:00,  3.17s/it]\n"
     ]
    },
    {
     "name": "stdout",
     "output_type": "stream",
     "text": [
      "Population's average fitness: 2.51296 stdev: 0.85538\n",
      "Best fitness: 3.38682 - size: (2, 3) - species 1 - id 524\n",
      "Average adjusted fitness: 0.566\n",
      "Mean genetic distance 2.026, standard deviation 0.742\n",
      "Population of 20 members in 2 species:\n",
      "   ID   age  size  fitness  adj fit  stag\n",
      "  ====  ===  ====  =======  =======  ====\n",
      "     1   27    13      3.4    0.701     1\n",
      "     2    2     7      2.2    0.430     1\n",
      "Total extinctions: 0\n",
      "Generation time: 251.014 sec (195.197 average)\n",
      "\n",
      " ****** Running generation 28 ****** \n",
      "\n"
     ]
    },
    {
     "name": "stderr",
     "output_type": "stream",
     "text": [
      "100%|██████████| 20/20 [01:03<00:00,  3.16s/it]\n"
     ]
    },
    {
     "name": "stdout",
     "output_type": "stream",
     "text": [
      "Population's average fitness: 2.92255 stdev: 0.59825\n",
      "Best fitness: 3.38789 - size: (2, 2) - species 1 - id 538\n",
      "Average adjusted fitness: 0.566\n",
      "Mean genetic distance 2.003, standard deviation 0.593\n",
      "Population of 20 members in 2 species:\n",
      "   ID   age  size  fitness  adj fit  stag\n",
      "  ====  ===  ====  =======  =======  ====\n",
      "     1   28     9      3.4    0.961     2\n",
      "     2    3    11      3.0    0.171     0\n",
      "Total extinctions: 0\n",
      "Generation time: 257.731 sec (209.978 average)\n",
      "\n",
      " ****** Running generation 29 ****** \n",
      "\n"
     ]
    },
    {
     "name": "stderr",
     "output_type": "stream",
     "text": [
      "100%|██████████| 20/20 [01:02<00:00,  3.12s/it]\n"
     ]
    },
    {
     "name": "stdout",
     "output_type": "stream",
     "text": [
      "Population's average fitness: 2.83512 stdev: 0.64834\n",
      "Best fitness: 3.38419 - size: (1, 2) - species 2 - id 557\n",
      "Average adjusted fitness: 0.717\n",
      "Mean genetic distance 1.931, standard deviation 0.587\n",
      "Population of 20 members in 2 species:\n",
      "   ID   age  size  fitness  adj fit  stag\n",
      "  ====  ===  ====  =======  =======  ====\n",
      "     1   29     7      3.4    0.792     3\n",
      "     2    4    13      3.4    0.643     0\n",
      "Total extinctions: 0\n",
      "Generation time: 265.495 sec (210.929 average)\n",
      "\n",
      "Best individual in generation 29 meets fitness threshold - complexity: (1, 2)\n",
      "directory name: Neat/models\\01-01-25\n"
     ]
    }
   ],
   "source": [
    "#fitness prop\n",
    "fp_network = run(config_path, eval_genomes_weighted_sum, reproduction_method=FitnessPropReproduction)\n",
    "cv_order = run_network(fp_network, data_manager)\n",
    "fp_results = get_scores(cv_order)\n",
    "save_model(fp_network, fp_results, model_name=\"NEAT_model_fitness_prop.pkl\", results_name=\"fitness_prop_results.pkl\")"
   ]
  },
  {
   "cell_type": "code",
   "execution_count": null,
   "metadata": {},
   "outputs": [
    {
     "name": "stdout",
     "output_type": "stream",
     "text": [
      "NUM_PANELS=[100000, 1000000] NUM_GENERATIONS=30 METRIC_WEIGHTS=[1, 1, 1, 1] OVERALL_THRESHOLD=0.3\n",
      "loading configuration...\n",
      "creating population...\n",
      "setting reporters...\n",
      "training model...\n",
      "\n",
      " ****** Running generation 0 ****** \n",
      "\n"
     ]
    },
    {
     "name": "stderr",
     "output_type": "stream",
     "text": [
      "100%|██████████| 20/20 [01:01<00:00,  3.08s/it]\n"
     ]
    },
    {
     "name": "stdout",
     "output_type": "stream",
     "text": [
      "Population's average fitness: 2.32739 stdev: 0.55587\n",
      "Best fitness: 3.14600 - size: (1, 6) - species 1 - id 17\n",
      "Mean genetic distance 1.406, standard deviation 0.685\n",
      "Population of 20 members in 1 species:\n",
      "   ID   age  size  fitness  adj fit  stag\n",
      "  ====  ===  ====  =======  =======  ====\n",
      "     1    0    20      3.1       --     0\n",
      "Total extinctions: 0\n",
      "Generation time: 90.279 sec\n",
      "\n",
      " ****** Running generation 1 ****** \n",
      "\n"
     ]
    },
    {
     "name": "stderr",
     "output_type": "stream",
     "text": [
      "100%|██████████| 20/20 [01:02<00:00,  3.10s/it]\n"
     ]
    },
    {
     "name": "stdout",
     "output_type": "stream",
     "text": [
      "Population's average fitness: 2.85371 stdev: 0.44016\n",
      "Best fitness: 3.43229 - size: (1, 5) - species 1 - id 25\n",
      "Mean genetic distance 1.005, standard deviation 0.398\n",
      "Population of 20 members in 1 species:\n",
      "   ID   age  size  fitness  adj fit  stag\n",
      "  ====  ===  ====  =======  =======  ====\n",
      "     1    1    20      3.4       --     0\n",
      "Total extinctions: 0\n",
      "Generation time: 183.993 sec (137.136 average)\n",
      "\n",
      " ****** Running generation 2 ****** \n",
      "\n"
     ]
    },
    {
     "name": "stderr",
     "output_type": "stream",
     "text": [
      "100%|██████████| 20/20 [01:02<00:00,  3.13s/it]\n"
     ]
    },
    {
     "name": "stdout",
     "output_type": "stream",
     "text": [
      "Population's average fitness: 2.68757 stdev: 0.72306\n",
      "Best fitness: 3.33882 - size: (1, 5) - species 1 - id 25\n",
      "Mean genetic distance 0.706, standard deviation 0.401\n",
      "Population of 20 members in 1 species:\n",
      "   ID   age  size  fitness  adj fit  stag\n",
      "  ====  ===  ====  =======  =======  ====\n",
      "     1    2    20      3.3       --     1\n",
      "Total extinctions: 0\n",
      "Generation time: 149.903 sec (141.392 average)\n",
      "\n",
      " ****** Running generation 3 ****** \n",
      "\n"
     ]
    },
    {
     "name": "stderr",
     "output_type": "stream",
     "text": [
      "100%|██████████| 20/20 [01:02<00:00,  3.14s/it]\n"
     ]
    },
    {
     "name": "stdout",
     "output_type": "stream",
     "text": [
      "Population's average fitness: 2.99814 stdev: 0.41977\n",
      "Best fitness: 3.38970 - size: (1, 5) - species 1 - id 66\n",
      "Mean genetic distance 0.718, standard deviation 0.308\n",
      "Population of 20 members in 1 species:\n",
      "   ID   age  size  fitness  adj fit  stag\n",
      "  ====  ===  ====  =======  =======  ====\n",
      "     1    3    20      3.4       --     2\n",
      "Total extinctions: 0\n",
      "Generation time: 229.305 sec (163.370 average)\n",
      "\n",
      " ****** Running generation 4 ****** \n",
      "\n"
     ]
    },
    {
     "name": "stderr",
     "output_type": "stream",
     "text": [
      "100%|██████████| 20/20 [01:03<00:00,  3.17s/it]\n"
     ]
    },
    {
     "name": "stdout",
     "output_type": "stream",
     "text": [
      "Population's average fitness: 2.87131 stdev: 0.59280\n",
      "Best fitness: 3.39603 - size: (1, 5) - species 1 - id 79\n",
      "Mean genetic distance 0.939, standard deviation 0.362\n",
      "Population of 20 members in 1 species:\n",
      "   ID   age  size  fitness  adj fit  stag\n",
      "  ====  ===  ====  =======  =======  ====\n",
      "     1    4    20      3.4       --     3\n",
      "Total extinctions: 0\n",
      "Generation time: 258.779 sec (182.452 average)\n",
      "\n",
      " ****** Running generation 5 ****** \n",
      "\n"
     ]
    },
    {
     "name": "stderr",
     "output_type": "stream",
     "text": [
      "100%|██████████| 20/20 [01:02<00:00,  3.13s/it]\n"
     ]
    },
    {
     "name": "stdout",
     "output_type": "stream",
     "text": [
      "Population's average fitness: 2.78297 stdev: 0.52548\n",
      "Best fitness: 3.41602 - size: (1, 5) - species 1 - id 101\n",
      "Mean genetic distance 0.937, standard deviation 0.352\n",
      "Population of 20 members in 1 species:\n",
      "   ID   age  size  fitness  adj fit  stag\n",
      "  ====  ===  ====  =======  =======  ====\n",
      "     1    5    20      3.4       --     4\n",
      "Total extinctions: 0\n",
      "Generation time: 168.249 sec (180.085 average)\n",
      "\n",
      " ****** Running generation 6 ****** \n",
      "\n"
     ]
    },
    {
     "name": "stderr",
     "output_type": "stream",
     "text": [
      "100%|██████████| 20/20 [01:01<00:00,  3.07s/it]\n"
     ]
    },
    {
     "name": "stdout",
     "output_type": "stream",
     "text": [
      "Population's average fitness: 2.52897 stdev: 0.68684\n",
      "Best fitness: 3.43810 - size: (1, 5) - species 1 - id 101\n",
      "Mean genetic distance 0.715, standard deviation 0.320\n",
      "Population of 20 members in 1 species:\n",
      "   ID   age  size  fitness  adj fit  stag\n",
      "  ====  ===  ====  =======  =======  ====\n",
      "     1    6    20      3.4       --     0\n",
      "Total extinctions: 0\n",
      "Generation time: 275.458 sec (193.709 average)\n",
      "Saving checkpoint to Neat/checkpoints/neat-checkpoint-6\n",
      "\n",
      " ****** Running generation 7 ****** \n",
      "\n"
     ]
    },
    {
     "name": "stderr",
     "output_type": "stream",
     "text": [
      "100%|██████████| 20/20 [01:02<00:00,  3.14s/it]\n"
     ]
    },
    {
     "name": "stdout",
     "output_type": "stream",
     "text": [
      "Population's average fitness: 2.92935 stdev: 0.50658\n",
      "Best fitness: 3.38400 - size: (1, 5) - species 1 - id 101\n",
      "Mean genetic distance 0.831, standard deviation 0.363\n",
      "Population of 20 members in 1 species:\n",
      "   ID   age  size  fitness  adj fit  stag\n",
      "  ====  ===  ====  =======  =======  ====\n",
      "     1    7    20      3.4       --     1\n",
      "Total extinctions: 0\n",
      "Generation time: 187.331 sec (192.912 average)\n",
      "\n",
      " ****** Running generation 8 ****** \n",
      "\n"
     ]
    },
    {
     "name": "stderr",
     "output_type": "stream",
     "text": [
      "100%|██████████| 20/20 [01:02<00:00,  3.12s/it]\n"
     ]
    },
    {
     "name": "stdout",
     "output_type": "stream",
     "text": [
      "Population's average fitness: 2.87278 stdev: 0.48444\n",
      "Best fitness: 3.35068 - size: (1, 5) - species 1 - id 168\n",
      "Mean genetic distance 1.098, standard deviation 0.362\n",
      "Population of 20 members in 1 species:\n",
      "   ID   age  size  fitness  adj fit  stag\n",
      "  ====  ===  ====  =======  =======  ====\n",
      "     1    8    20      3.4       --     2\n",
      "Total extinctions: 0\n",
      "Generation time: 155.382 sec (188.742 average)\n",
      "\n",
      " ****** Running generation 9 ****** \n",
      "\n"
     ]
    },
    {
     "name": "stderr",
     "output_type": "stream",
     "text": [
      "100%|██████████| 20/20 [01:02<00:00,  3.10s/it]\n"
     ]
    },
    {
     "name": "stdout",
     "output_type": "stream",
     "text": [
      "Population's average fitness: 3.06448 stdev: 0.33698\n",
      "Best fitness: 3.42134 - size: (1, 5) - species 1 - id 168\n",
      "Mean genetic distance 1.192, standard deviation 0.280\n",
      "Population of 20 members in 1 species:\n",
      "   ID   age  size  fitness  adj fit  stag\n",
      "  ====  ===  ====  =======  =======  ====\n",
      "     1    9    20      3.4       --     3\n",
      "Total extinctions: 0\n",
      "Generation time: 176.717 sec (187.540 average)\n",
      "\n",
      " ****** Running generation 10 ****** \n",
      "\n"
     ]
    },
    {
     "name": "stderr",
     "output_type": "stream",
     "text": [
      "100%|██████████| 20/20 [01:02<00:00,  3.11s/it]\n"
     ]
    },
    {
     "name": "stdout",
     "output_type": "stream",
     "text": [
      "Population's average fitness: 2.75723 stdev: 0.60225\n",
      "Best fitness: 3.32814 - size: (1, 5) - species 1 - id 192\n",
      "Mean genetic distance 1.052, standard deviation 0.336\n",
      "Population of 20 members in 1 species:\n",
      "   ID   age  size  fitness  adj fit  stag\n",
      "  ====  ===  ====  =======  =======  ====\n",
      "     1   10    20      3.3       --     4\n",
      "Total extinctions: 0\n",
      "Generation time: 143.048 sec (192.816 average)\n",
      "\n",
      " ****** Running generation 11 ****** \n",
      "\n"
     ]
    },
    {
     "name": "stderr",
     "output_type": "stream",
     "text": [
      "100%|██████████| 20/20 [01:00<00:00,  3.03s/it]\n"
     ]
    },
    {
     "name": "stdout",
     "output_type": "stream",
     "text": [
      "Population's average fitness: 2.79912 stdev: 0.62244\n",
      "Best fitness: 3.28244 - size: (1, 5) - species 1 - id 220\n",
      "Mean genetic distance 0.735, standard deviation 0.295\n",
      "Population of 20 members in 1 species:\n",
      "   ID   age  size  fitness  adj fit  stag\n",
      "  ====  ===  ====  =======  =======  ====\n",
      "     1   11    20      3.3       --     5\n",
      "Total extinctions: 0\n",
      "Generation time: 121.138 sec (186.531 average)\n",
      "\n",
      " ****** Running generation 12 ****** \n",
      "\n"
     ]
    },
    {
     "name": "stderr",
     "output_type": "stream",
     "text": [
      "100%|██████████| 20/20 [01:03<00:00,  3.18s/it]\n"
     ]
    },
    {
     "name": "stdout",
     "output_type": "stream",
     "text": [
      "Population's average fitness: 2.40489 stdev: 0.72478\n",
      "Best fitness: 3.38078 - size: (1, 4) - species 1 - id 241\n",
      "Mean genetic distance 0.698, standard deviation 0.217\n",
      "Population of 20 members in 1 species:\n",
      "   ID   age  size  fitness  adj fit  stag\n",
      "  ====  ===  ====  =======  =======  ====\n",
      "     1   12    20      3.4       --     6\n",
      "Total extinctions: 0\n",
      "Generation time: 188.555 sec (190.396 average)\n",
      "\n",
      " ****** Running generation 13 ****** \n",
      "\n"
     ]
    },
    {
     "name": "stderr",
     "output_type": "stream",
     "text": [
      "100%|██████████| 20/20 [01:03<00:00,  3.15s/it]\n"
     ]
    },
    {
     "name": "stdout",
     "output_type": "stream",
     "text": [
      "Population's average fitness: 2.76788 stdev: 0.74526\n",
      "Best fitness: 3.39799 - size: (1, 3) - species 1 - id 267\n",
      "Mean genetic distance 1.146, standard deviation 0.368\n",
      "Population of 20 members in 1 species:\n",
      "   ID   age  size  fitness  adj fit  stag\n",
      "  ====  ===  ====  =======  =======  ====\n",
      "     1   13    20      3.4       --     7\n",
      "Total extinctions: 0\n",
      "Generation time: 253.168 sec (192.782 average)\n",
      "Saving checkpoint to Neat/checkpoints/neat-checkpoint-13\n",
      "\n",
      " ****** Running generation 14 ****** \n",
      "\n"
     ]
    },
    {
     "name": "stderr",
     "output_type": "stream",
     "text": [
      "100%|██████████| 20/20 [01:02<00:00,  3.13s/it]\n"
     ]
    },
    {
     "name": "stdout",
     "output_type": "stream",
     "text": [
      "Population's average fitness: 2.87226 stdev: 0.64939\n",
      "Best fitness: 3.30113 - size: (1, 3) - species 1 - id 284\n",
      "Mean genetic distance 1.652, standard deviation 0.328\n",
      "Population of 20 members in 1 species:\n",
      "   ID   age  size  fitness  adj fit  stag\n",
      "  ====  ===  ====  =======  =======  ====\n",
      "     1   14    20      3.3       --     8\n",
      "Total extinctions: 0\n",
      "Generation time: 123.325 sec (179.237 average)\n",
      "\n",
      " ****** Running generation 15 ****** \n",
      "\n"
     ]
    },
    {
     "name": "stderr",
     "output_type": "stream",
     "text": [
      "100%|██████████| 20/20 [01:02<00:00,  3.14s/it]\n"
     ]
    },
    {
     "name": "stdout",
     "output_type": "stream",
     "text": [
      "Population's average fitness: 2.74548 stdev: 0.61923\n",
      "Best fitness: 3.33636 - size: (1, 3) - species 1 - id 301\n",
      "Mean genetic distance 1.137, standard deviation 0.295\n",
      "Population of 20 members in 1 species:\n",
      "   ID   age  size  fitness  adj fit  stag\n",
      "  ====  ===  ====  =======  =======  ====\n",
      "     1   15    20      3.3       --     9\n",
      "Total extinctions: 0\n",
      "Generation time: 125.317 sec (174.944 average)\n",
      "\n",
      " ****** Running generation 16 ****** \n",
      "\n"
     ]
    },
    {
     "name": "stderr",
     "output_type": "stream",
     "text": [
      "100%|██████████| 20/20 [01:02<00:00,  3.12s/it]\n"
     ]
    },
    {
     "name": "stdout",
     "output_type": "stream",
     "text": [
      "Population's average fitness: 2.87501 stdev: 0.69822\n",
      "Best fitness: 3.33556 - size: (1, 3) - species 1 - id 310\n",
      "Mean genetic distance 0.946, standard deviation 0.476\n",
      "Population of 20 members in 1 species:\n",
      "   ID   age  size  fitness  adj fit  stag\n",
      "  ====  ===  ====  =======  =======  ====\n",
      "     1   16    20      3.3       --    10\n",
      "Total extinctions: 0\n",
      "Generation time: 131.722 sec (160.570 average)\n",
      "\n",
      " ****** Running generation 17 ****** \n",
      "\n"
     ]
    },
    {
     "name": "stderr",
     "output_type": "stream",
     "text": [
      "100%|██████████| 20/20 [01:02<00:00,  3.12s/it]\n"
     ]
    },
    {
     "name": "stdout",
     "output_type": "stream",
     "text": [
      "Population's average fitness: 2.82260 stdev: 0.70938\n",
      "Best fitness: 3.42997 - size: (2, 4) - species 1 - id 340\n",
      "Mean genetic distance 1.255, standard deviation 0.382\n",
      "Population of 20 members in 1 species:\n",
      "   ID   age  size  fitness  adj fit  stag\n",
      "  ====  ===  ====  =======  =======  ====\n",
      "     1   17    20      3.4       --    11\n",
      "Total extinctions: 0\n",
      "Generation time: 220.475 sec (163.885 average)\n",
      "\n",
      " ****** Running generation 18 ****** \n",
      "\n"
     ]
    },
    {
     "name": "stderr",
     "output_type": "stream",
     "text": [
      "100%|██████████| 20/20 [01:02<00:00,  3.10s/it]\n"
     ]
    },
    {
     "name": "stdout",
     "output_type": "stream",
     "text": [
      "Population's average fitness: 2.98970 stdev: 0.42200\n",
      "Best fitness: 3.34113 - size: (1, 3) - species 1 - id 346\n",
      "Mean genetic distance 0.595, standard deviation 0.358\n",
      "Population of 20 members in 1 species:\n",
      "   ID   age  size  fitness  adj fit  stag\n",
      "  ====  ===  ====  =======  =======  ====\n",
      "     1   18    20      3.3       --    12\n",
      "Total extinctions: 0\n",
      "Generation time: 143.916 sec (162.738 average)\n",
      "\n",
      " ****** Running generation 19 ****** \n",
      "\n"
     ]
    },
    {
     "name": "stderr",
     "output_type": "stream",
     "text": [
      "100%|██████████| 20/20 [01:03<00:00,  3.15s/it]\n"
     ]
    },
    {
     "name": "stdout",
     "output_type": "stream",
     "text": [
      "Population's average fitness: 3.11373 stdev: 0.36767\n",
      "Best fitness: 3.43544 - size: (1, 3) - species 1 - id 373\n",
      "Mean genetic distance 0.691, standard deviation 0.284\n",
      "Population of 20 members in 1 species:\n",
      "   ID   age  size  fitness  adj fit  stag\n",
      "  ====  ===  ====  =======  =======  ====\n",
      "     1   19    20      3.4       --    13\n",
      "Total extinctions: 0\n",
      "Generation time: 197.491 sec (164.815 average)\n",
      "\n",
      " ****** Running generation 20 ****** \n",
      "\n"
     ]
    },
    {
     "name": "stderr",
     "output_type": "stream",
     "text": [
      "100%|██████████| 20/20 [01:01<00:00,  3.09s/it]\n"
     ]
    },
    {
     "name": "stdout",
     "output_type": "stream",
     "text": [
      "Population's average fitness: 3.23931 stdev: 0.30994\n",
      "Best fitness: 3.41388 - size: (1, 3) - species 1 - id 384\n",
      "Mean genetic distance 0.872, standard deviation 0.488\n",
      "Population of 20 members in 1 species:\n",
      "   ID   age  size  fitness  adj fit  stag\n",
      "  ====  ===  ====  =======  =======  ====\n",
      "     1   20    20      3.4       --    14\n",
      "Total extinctions: 0\n",
      "Generation time: 220.968 sec (172.608 average)\n",
      "\n",
      " ****** Running generation 21 ****** \n",
      "\n"
     ]
    },
    {
     "name": "stderr",
     "output_type": "stream",
     "text": [
      "100%|██████████| 20/20 [01:02<00:00,  3.15s/it]\n"
     ]
    },
    {
     "name": "stdout",
     "output_type": "stream",
     "text": [
      "Population's average fitness: 2.89015 stdev: 0.59056\n",
      "Best fitness: 3.33965 - size: (1, 3) - species 1 - id 409\n",
      "Mean genetic distance 0.807, standard deviation 0.431\n",
      "Population of 20 members in 1 species:\n",
      "   ID   age  size  fitness  adj fit  stag\n",
      "  ====  ===  ====  =======  =======  ====\n",
      "     1   21    20      3.3       --    15\n",
      "Total extinctions: 0\n",
      "Generation time: 137.665 sec (174.260 average)\n",
      "Saving checkpoint to Neat/checkpoints/neat-checkpoint-21\n",
      "\n",
      " ****** Running generation 22 ****** \n",
      "\n"
     ]
    },
    {
     "name": "stderr",
     "output_type": "stream",
     "text": [
      "100%|██████████| 20/20 [01:02<00:00,  3.12s/it]\n"
     ]
    },
    {
     "name": "stdout",
     "output_type": "stream",
     "text": [
      "Population's average fitness: 2.75767 stdev: 0.75898\n",
      "Best fitness: 3.43215 - size: (1, 3) - species 1 - id 430\n",
      "Mean genetic distance 1.035, standard deviation 0.410\n",
      "Population of 20 members in 1 species:\n",
      "   ID   age  size  fitness  adj fit  stag\n",
      "  ====  ===  ====  =======  =======  ====\n",
      "     1   22    20      3.4       --    16\n",
      "Total extinctions: 0\n",
      "Generation time: 175.773 sec (172.982 average)\n",
      "\n",
      " ****** Running generation 23 ****** \n",
      "\n"
     ]
    },
    {
     "name": "stderr",
     "output_type": "stream",
     "text": [
      "100%|██████████| 20/20 [01:01<00:00,  3.10s/it]\n"
     ]
    },
    {
     "name": "stdout",
     "output_type": "stream",
     "text": [
      "Population's average fitness: 2.86850 stdev: 0.68634\n",
      "Best fitness: 3.38708 - size: (1, 3) - species 1 - id 449\n",
      "Mean genetic distance 0.769, standard deviation 0.378\n",
      "Population of 20 members in 1 species:\n",
      "   ID   age  size  fitness  adj fit  stag\n",
      "  ====  ===  ====  =======  =======  ====\n",
      "     1   23    20      3.4       --    17\n",
      "Total extinctions: 0\n",
      "Generation time: 244.057 sec (172.071 average)\n",
      "\n",
      " ****** Running generation 24 ****** \n",
      "\n"
     ]
    },
    {
     "name": "stderr",
     "output_type": "stream",
     "text": [
      "100%|██████████| 20/20 [01:02<00:00,  3.12s/it]\n"
     ]
    },
    {
     "name": "stdout",
     "output_type": "stream",
     "text": [
      "Population's average fitness: 3.09874 stdev: 0.12118\n",
      "Best fitness: 3.21006 - size: (1, 2) - species 1 - id 474\n",
      "Mean genetic distance 0.956, standard deviation 0.412\n",
      "Population of 20 members in 1 species:\n",
      "   ID   age  size  fitness  adj fit  stag\n",
      "  ====  ===  ====  =======  =======  ====\n",
      "     1   24    20      3.2       --    18\n",
      "Total extinctions: 0\n",
      "Generation time: 107.796 sec (170.518 average)\n",
      "\n",
      " ****** Running generation 25 ****** \n",
      "\n"
     ]
    },
    {
     "name": "stderr",
     "output_type": "stream",
     "text": [
      "100%|██████████| 20/20 [01:02<00:00,  3.11s/it]\n"
     ]
    },
    {
     "name": "stdout",
     "output_type": "stream",
     "text": [
      "Population's average fitness: 2.81427 stdev: 0.67999\n",
      "Best fitness: 3.32497 - size: (1, 3) - species 1 - id 482\n",
      "Mean genetic distance 0.721, standard deviation 0.314\n",
      "Population of 20 members in 1 species:\n",
      "   ID   age  size  fitness  adj fit  stag\n",
      "  ====  ===  ====  =======  =======  ====\n",
      "     1   25    20      3.3       --    19\n",
      "Total extinctions: 0\n",
      "Generation time: 121.982 sec (170.185 average)\n",
      "\n",
      " ****** Running generation 26 ****** \n",
      "\n"
     ]
    },
    {
     "name": "stderr",
     "output_type": "stream",
     "text": [
      "100%|██████████| 20/20 [01:03<00:00,  3.17s/it]\n"
     ]
    },
    {
     "name": "stdout",
     "output_type": "stream",
     "text": [
      "Population's average fitness: 2.84782 stdev: 0.57238\n",
      "Best fitness: 3.34728 - size: (1, 3) - species 1 - id 503\n",
      "Mean genetic distance 0.927, standard deviation 0.493\n",
      "Population of 20 members in 1 species:\n",
      "   ID   age  size  fitness  adj fit  stag\n",
      "  ====  ===  ====  =======  =======  ====\n",
      "     1   26    20      3.3       --    20\n",
      "Total extinctions: 0\n",
      "Generation time: 273.895 sec (184.402 average)\n",
      "\n",
      " ****** Running generation 27 ****** \n",
      "\n"
     ]
    },
    {
     "name": "stderr",
     "output_type": "stream",
     "text": [
      "100%|██████████| 20/20 [01:01<00:00,  3.06s/it]\n"
     ]
    },
    {
     "name": "stdout",
     "output_type": "stream",
     "text": [
      "Population's average fitness: 2.96613 stdev: 0.52422\n",
      "Best fitness: 3.38521 - size: (1, 2) - species 1 - id 522\n",
      "Mean genetic distance 1.836, standard deviation 0.542\n",
      "Population of 20 members in 1 species:\n",
      "   ID   age  size  fitness  adj fit  stag\n",
      "  ====  ===  ====  =======  =======  ====\n",
      "     1   27    20      3.4       --    21\n",
      "Total extinctions: 0\n",
      "Generation time: 225.910 sec (184.945 average)\n",
      "\n",
      " ****** Running generation 28 ****** \n",
      "\n"
     ]
    },
    {
     "name": "stderr",
     "output_type": "stream",
     "text": [
      "100%|██████████| 20/20 [01:02<00:00,  3.14s/it]\n"
     ]
    },
    {
     "name": "stdout",
     "output_type": "stream",
     "text": [
      "Population's average fitness: 3.01742 stdev: 0.26093\n",
      "Best fitness: 3.26437 - size: (1, 2) - species 1 - id 536\n",
      "Mean genetic distance 1.894, standard deviation 0.233\n",
      "Population of 20 members in 1 species:\n",
      "   ID   age  size  fitness  adj fit  stag\n",
      "  ====  ===  ====  =======  =======  ====\n",
      "     1   28    20      3.3       --    22\n",
      "Total extinctions: 0\n",
      "Generation time: 105.647 sec (181.119 average)\n",
      "Saving checkpoint to Neat/checkpoints/neat-checkpoint-28\n",
      "\n",
      " ****** Running generation 29 ****** \n",
      "\n"
     ]
    },
    {
     "name": "stderr",
     "output_type": "stream",
     "text": [
      "100%|██████████| 20/20 [01:03<00:00,  3.18s/it]\n"
     ]
    },
    {
     "name": "stdout",
     "output_type": "stream",
     "text": [
      "Population's average fitness: 2.66974 stdev: 0.60122\n",
      "Best fitness: 3.38519 - size: (2, 3) - species 1 - id 566\n",
      "Mean genetic distance 1.695, standard deviation 0.404\n",
      "Population of 20 members in 1 species:\n",
      "   ID   age  size  fitness  adj fit  stag\n",
      "  ====  ===  ====  =======  =======  ====\n",
      "     1   29    20      3.4       --    23\n",
      "Total extinctions: 0\n",
      "Generation time: 179.930 sec (179.362 average)\n",
      "\n",
      "Best individual in generation 29 meets fitness threshold - complexity: (2, 3)\n",
      "directory name: Neat/models\\01-01-25\n"
     ]
    }
   ],
   "source": [
    "#tournament\n",
    "tourney_network = run(config_path, eval_genomes_weighted_sum, reproduction_method=TournamentReproduction)\n",
    "cv_order = run_network(tourney_network, data_manager)\n",
    "tourney_results = get_scores(cv_order)\n",
    "save_model(tourney_network, tourney_results, model_name=\"NEAT_model_tournament.pkl\", results_name=\"tournament_results.pkl\")"
   ]
  },
  {
   "cell_type": "code",
   "execution_count": 9,
   "metadata": {},
   "outputs": [
    {
     "name": "stdout",
     "output_type": "stream",
     "text": [
      "Lexicase income_equity 0.966662932646708\n",
      "Lexicase racial_equity 0.9077214422467004\n",
      "Lexicase carbon_offset 0.945628847556702\n",
      "Lexicase energy_generation 0.5467869741500684\n",
      "Fitness prop income_equity 0.9705368865589978\n",
      "Fitness prop racial_equity 0.9081013087588642\n",
      "Fitness prop carbon_offset 0.9456261013178772\n",
      "Fitness prop energy_generation 0.5466999340288948\n",
      "Tourney income_equity 0.966662932646708\n",
      "Tourney racial_equity 0.9130409349457124\n",
      "Tourney carbon_offset 0.9456221905445263\n",
      "Tourney energy_generation 0.5457064872840829\n"
     ]
    }
   ],
   "source": [
    "\n",
    "#print results\n",
    "result_metrics = ['income_equity', 'racial_equity', 'carbon_offset', 'energy_generation']\n",
    "for i, res in enumerate(lexi_results):\n",
    "    print(f\"Lexicase {result_metrics[i]}\", res)\n",
    "\n",
    "for i, res in enumerate(fp_results):\n",
    "    print(f\"Fitness prop {result_metrics[i]}\", res)\n",
    "    \n",
    "for i, res in enumerate(tourney_results):\n",
    "    print(f\"Tourney {result_metrics[i]}\", res)\n",
    "\n",
    "# for i, res in enumerate(rand_results):\n",
    "#     print(f\"Random {result_metrics[i]}\", res)\n",
    "\n",
    "# for i, res in enumerate(rand_results):\n",
    "#     print(f\"Random {result_metrics[i]}\", res)\n"
   ]
  },
  {
   "cell_type": "code",
   "execution_count": 10,
   "metadata": {},
   "outputs": [
    {
     "data": {
      "image/png": "[encoded data removed]",
      "text/plain": [
       "<Figure size 1000x600 with 1 Axes>"
      ]
     },
     "metadata": {},
     "output_type": "display_data"
    }
   ],
   "source": [
    "import matplotlib.pyplot as plt\n",
    "import numpy as np\n",
    "\n",
    "# Data\n",
    "methods = ['Lexicase', 'Fitness Proportion', 'Tournament']\n",
    "objectives = ['income_equity', 'racial_equity', 'carbon_offset', 'energy_generation']\n",
    "\n",
    "# Example results for each method across objectives\n",
    "results = [\n",
    "    lexi_results,\n",
    "    fp_results,\n",
    "    tourney_results\n",
    "]\n",
    "\n",
    "# Configuration for the bar graph\n",
    "x = np.arange(len(objectives))  # X positions for the groups\n",
    "width = 0.25  # Width of each bar\n",
    "\n",
    "# Create the plot\n",
    "fig, ax = plt.subplots(figsize=(10, 6))\n",
    "\n",
    "# Add bars for each method\n",
    "for i, method in enumerate(methods):\n",
    "    ax.bar(x + i * width, results[i], width, label=method)\n",
    "\n",
    "# Add labels, title, and legend\n",
    "ax.set_xlabel('Objectives')\n",
    "ax.set_ylabel('Fitness')\n",
    "ax.set_title('Fitness of Selection Methods for all Objectives')\n",
    "ax.set_xticks(x + width)\n",
    "ax.set_xticklabels(objectives)\n",
    "ax.legend()\n",
    "\n",
    "# Show the plot\n",
    "plt.tight_layout()\n",
    "plt.show()\n"
   ]
  },
  {
   "cell_type": "markdown",
   "metadata": {},
   "source": [
    "# grid search\n"
   ]
  },
  {
   "cell_type": "code",
   "execution_count": 3,
   "metadata": {},
   "outputs": [
    {
     "name": "stdout",
     "output_type": "stream",
     "text": [
      "[47673293.73634648, 14828201.26916047, -138438.3073647724, 172065.15634731413]\n"
     ]
    }
   ],
   "source": [
    "#get baseline for SQ\n",
    "from projections_util import create_equity_projections, create_projections\n",
    "\n",
    "#The model doesn't matter, just grab 100k panel SQ baseline\n",
    "model_path = \"Neat/models/01-01-25/NEAT_model_lexicase.pkl\"\n",
    "load = True\n",
    "save_label = \"100k_panels\"\n",
    "\n",
    "max_num_added = 100000\n",
    "Energy_projections, Energy_picked = create_projections(combined_df, state_df, n=max_num_added, load=load, metric='energy_generation_per_panel', model_path=model_path, save_label=save_label)\n",
    "Carbon_offset_projections, Carbon_offset_picked = create_projections(combined_df, state_df, n=max_num_added, load=load, metric='carbon_offset_kg_per_panel', model_path=model_path, save_label=save_label)\n",
    "Racial_equity_projections = create_equity_projections(combined_df, Energy_picked, n=max_num_added, load=load, metric=\"black_prop\", save_label=save_label)\n",
    "Income_equity_projections = create_equity_projections(combined_df, Energy_picked, n=max_num_added, load=load, metric=\"Median_income\", save_label=save_label)\n",
    "\n",
    "SQ_baseline = [Energy_projections[\"Status-Quo\"][100000],\n",
    "               Carbon_offset_projections[\"Status-Quo\"][100000],\n",
    "               Racial_equity_projections[\"Status-Quo\"][100000],\n",
    "               Income_equity_projections[\"Status-Quo\"][100000]]\n",
    "print(SQ_baseline)\n"
   ]
  },
  {
   "cell_type": "code",
   "execution_count": 4,
   "metadata": {},
   "outputs": [
    {
     "data": {
      "text/html": [
       "<div>\n",
       "<style scoped>\n",
       "    .dataframe tbody tr th:only-of-type {\n",
       "        vertical-align: middle;\n",
       "    }\n",
       "\n",
       "    .dataframe tbody tr th {\n",
       "        vertical-align: top;\n",
       "    }\n",
       "\n",
       "    .dataframe thead th {\n",
       "        text-align: right;\n",
       "    }\n",
       "</style>\n",
       "<table border=\"1\" class=\"dataframe\">\n",
       "  <thead>\n",
       "    <tr style=\"text-align: right;\">\n",
       "      <th></th>\n",
       "      <th>threshold_options</th>\n",
       "      <th>pop_size_options</th>\n",
       "      <th>generations_options</th>\n",
       "      <th>energy_generation_per_panel</th>\n",
       "      <th>carbon_offset_kg_per_panel</th>\n",
       "      <th>black_prop</th>\n",
       "      <th>Median_income</th>\n",
       "    </tr>\n",
       "  </thead>\n",
       "  <tbody>\n",
       "    <tr>\n",
       "      <th>0</th>\n",
       "      <td>0.001</td>\n",
       "      <td>30</td>\n",
       "      <td>5</td>\n",
       "      <td>0</td>\n",
       "      <td>0</td>\n",
       "      <td>0</td>\n",
       "      <td>0</td>\n",
       "    </tr>\n",
       "    <tr>\n",
       "      <th>1</th>\n",
       "      <td>0.001</td>\n",
       "      <td>30</td>\n",
       "      <td>10</td>\n",
       "      <td>0</td>\n",
       "      <td>0</td>\n",
       "      <td>0</td>\n",
       "      <td>0</td>\n",
       "    </tr>\n",
       "    <tr>\n",
       "      <th>2</th>\n",
       "      <td>0.001</td>\n",
       "      <td>30</td>\n",
       "      <td>15</td>\n",
       "      <td>0</td>\n",
       "      <td>0</td>\n",
       "      <td>0</td>\n",
       "      <td>0</td>\n",
       "    </tr>\n",
       "    <tr>\n",
       "      <th>3</th>\n",
       "      <td>0.001</td>\n",
       "      <td>30</td>\n",
       "      <td>20</td>\n",
       "      <td>0</td>\n",
       "      <td>0</td>\n",
       "      <td>0</td>\n",
       "      <td>0</td>\n",
       "    </tr>\n",
       "    <tr>\n",
       "      <th>4</th>\n",
       "      <td>0.001</td>\n",
       "      <td>30</td>\n",
       "      <td>25</td>\n",
       "      <td>0</td>\n",
       "      <td>0</td>\n",
       "      <td>0</td>\n",
       "      <td>0</td>\n",
       "    </tr>\n",
       "  </tbody>\n",
       "</table>\n",
       "</div>"
      ],
      "text/plain": [
       "   threshold_options  pop_size_options  generations_options  \\\n",
       "0              0.001                30                    5   \n",
       "1              0.001                30                   10   \n",
       "2              0.001                30                   15   \n",
       "3              0.001                30                   20   \n",
       "4              0.001                30                   25   \n",
       "\n",
       "   energy_generation_per_panel  carbon_offset_kg_per_panel  black_prop  \\\n",
       "0                            0                           0           0   \n",
       "1                            0                           0           0   \n",
       "2                            0                           0           0   \n",
       "3                            0                           0           0   \n",
       "4                            0                           0           0   \n",
       "\n",
       "   Median_income  \n",
       "0              0  \n",
       "1              0  \n",
       "2              0  \n",
       "3              0  \n",
       "4              0  "
      ]
     },
     "execution_count": 4,
     "metadata": {},
     "output_type": "execute_result"
    }
   ],
   "source": [
    "import pandas as pd\n",
    "import itertools\n",
    "import numpy as np\n",
    "\n",
    "# Define hyperparameters and their values\n",
    "hyperparams = {\n",
    "    \"threshold_options\": [0.001, 0.05, 0.1, 0.2, 0.3, 0.5],\n",
    "    \"pop_size_options\": [30, 50],\n",
    "    \"generations_options\": [5, 10, 15, 20, 25, 30, 35],\n",
    "}\n",
    "\n",
    "# Generate all combinations of hyperparameters\n",
    "combinations = list(itertools.product(*hyperparams.values()))\n",
    "\n",
    "# Create DataFrame\n",
    "results_df = pd.DataFrame(combinations, columns=hyperparams.keys())\n",
    "\n",
    "#initialize objectives\n",
    "results_df[\"energy_generation_per_panel\"] = 0\n",
    "results_df[\"carbon_offset_kg_per_panel\"] = 0\n",
    "results_df[\"black_prop\"] = 0\n",
    "results_df[\"Median_income\"] = 0\n",
    "\n",
    "results_df.head()\n"
   ]
  },
  {
   "cell_type": "code",
   "execution_count": 10,
   "metadata": {},
   "outputs": [
    {
     "data": {
      "text/html": [
       "<div>\n",
       "<style scoped>\n",
       "    .dataframe tbody tr th:only-of-type {\n",
       "        vertical-align: middle;\n",
       "    }\n",
       "\n",
       "    .dataframe tbody tr th {\n",
       "        vertical-align: top;\n",
       "    }\n",
       "\n",
       "    .dataframe thead th {\n",
       "        text-align: right;\n",
       "    }\n",
       "</style>\n",
       "<table border=\"1\" class=\"dataframe\">\n",
       "  <thead>\n",
       "    <tr style=\"text-align: right;\">\n",
       "      <th></th>\n",
       "      <th>threshold_options</th>\n",
       "      <th>pop_size_options</th>\n",
       "      <th>generations_options</th>\n",
       "      <th>energy_generation_per_panel</th>\n",
       "      <th>carbon_offset_kg_per_panel</th>\n",
       "      <th>black_prop</th>\n",
       "      <th>Median_income</th>\n",
       "    </tr>\n",
       "  </thead>\n",
       "  <tbody>\n",
       "    <tr>\n",
       "      <th>0</th>\n",
       "      <td>0.001</td>\n",
       "      <td>30</td>\n",
       "      <td>5</td>\n",
       "      <td>3</td>\n",
       "      <td>0</td>\n",
       "      <td>0</td>\n",
       "      <td>0</td>\n",
       "    </tr>\n",
       "    <tr>\n",
       "      <th>1</th>\n",
       "      <td>0.001</td>\n",
       "      <td>30</td>\n",
       "      <td>10</td>\n",
       "      <td>0</td>\n",
       "      <td>0</td>\n",
       "      <td>0</td>\n",
       "      <td>0</td>\n",
       "    </tr>\n",
       "    <tr>\n",
       "      <th>2</th>\n",
       "      <td>0.001</td>\n",
       "      <td>30</td>\n",
       "      <td>15</td>\n",
       "      <td>0</td>\n",
       "      <td>0</td>\n",
       "      <td>0</td>\n",
       "      <td>0</td>\n",
       "    </tr>\n",
       "    <tr>\n",
       "      <th>3</th>\n",
       "      <td>0.001</td>\n",
       "      <td>30</td>\n",
       "      <td>20</td>\n",
       "      <td>0</td>\n",
       "      <td>0</td>\n",
       "      <td>0</td>\n",
       "      <td>0</td>\n",
       "    </tr>\n",
       "    <tr>\n",
       "      <th>4</th>\n",
       "      <td>0.001</td>\n",
       "      <td>30</td>\n",
       "      <td>25</td>\n",
       "      <td>0</td>\n",
       "      <td>0</td>\n",
       "      <td>0</td>\n",
       "      <td>0</td>\n",
       "    </tr>\n",
       "    <tr>\n",
       "      <th>...</th>\n",
       "      <td>...</td>\n",
       "      <td>...</td>\n",
       "      <td>...</td>\n",
       "      <td>...</td>\n",
       "      <td>...</td>\n",
       "      <td>...</td>\n",
       "      <td>...</td>\n",
       "    </tr>\n",
       "    <tr>\n",
       "      <th>79</th>\n",
       "      <td>0.500</td>\n",
       "      <td>50</td>\n",
       "      <td>15</td>\n",
       "      <td>0</td>\n",
       "      <td>0</td>\n",
       "      <td>0</td>\n",
       "      <td>0</td>\n",
       "    </tr>\n",
       "    <tr>\n",
       "      <th>80</th>\n",
       "      <td>0.500</td>\n",
       "      <td>50</td>\n",
       "      <td>20</td>\n",
       "      <td>0</td>\n",
       "      <td>0</td>\n",
       "      <td>0</td>\n",
       "      <td>0</td>\n",
       "    </tr>\n",
       "    <tr>\n",
       "      <th>81</th>\n",
       "      <td>0.500</td>\n",
       "      <td>50</td>\n",
       "      <td>25</td>\n",
       "      <td>0</td>\n",
       "      <td>0</td>\n",
       "      <td>0</td>\n",
       "      <td>0</td>\n",
       "    </tr>\n",
       "    <tr>\n",
       "      <th>82</th>\n",
       "      <td>0.500</td>\n",
       "      <td>50</td>\n",
       "      <td>30</td>\n",
       "      <td>0</td>\n",
       "      <td>0</td>\n",
       "      <td>0</td>\n",
       "      <td>0</td>\n",
       "    </tr>\n",
       "    <tr>\n",
       "      <th>83</th>\n",
       "      <td>0.500</td>\n",
       "      <td>50</td>\n",
       "      <td>35</td>\n",
       "      <td>0</td>\n",
       "      <td>0</td>\n",
       "      <td>0</td>\n",
       "      <td>0</td>\n",
       "    </tr>\n",
       "  </tbody>\n",
       "</table>\n",
       "<p>84 rows × 7 columns</p>\n",
       "</div>"
      ],
      "text/plain": [
       "    threshold_options  pop_size_options  generations_options  \\\n",
       "0               0.001                30                    5   \n",
       "1               0.001                30                   10   \n",
       "2               0.001                30                   15   \n",
       "3               0.001                30                   20   \n",
       "4               0.001                30                   25   \n",
       "..                ...               ...                  ...   \n",
       "79              0.500                50                   15   \n",
       "80              0.500                50                   20   \n",
       "81              0.500                50                   25   \n",
       "82              0.500                50                   30   \n",
       "83              0.500                50                   35   \n",
       "\n",
       "    energy_generation_per_panel  carbon_offset_kg_per_panel  black_prop  \\\n",
       "0                             3                           0           0   \n",
       "1                             0                           0           0   \n",
       "2                             0                           0           0   \n",
       "3                             0                           0           0   \n",
       "4                             0                           0           0   \n",
       "..                          ...                         ...         ...   \n",
       "79                            0                           0           0   \n",
       "80                            0                           0           0   \n",
       "81                            0                           0           0   \n",
       "82                            0                           0           0   \n",
       "83                            0                           0           0   \n",
       "\n",
       "    Median_income  \n",
       "0               0  \n",
       "1               0  \n",
       "2               0  \n",
       "3               0  \n",
       "4               0  \n",
       "..            ...  \n",
       "79              0  \n",
       "80              0  \n",
       "81              0  \n",
       "82              0  \n",
       "83              0  \n",
       "\n",
       "[84 rows x 7 columns]"
      ]
     },
     "execution_count": 10,
     "metadata": {},
     "output_type": "execute_result"
    }
   ],
   "source": [
    "results_df.loc[0, \"energy_generation_per_panel\"] = 3\n",
    "\n",
    "results_df\n"
   ]
  },
  {
   "cell_type": "code",
   "execution_count": null,
   "metadata": {},
   "outputs": [
    {
     "name": "stdout",
     "output_type": "stream",
     "text": [
      "0\n",
      "loading configuration...\n",
      "NUM_PANELS=[100000] NUM_GENERATIONS=5 METRIC_WEIGHTS=[1, 1, 1, 1] OVERALL_THRESHOLD=0.001\n",
      "creating population...\n",
      "setting reporters...\n",
      "training model...\n",
      "\n",
      " ****** Running generation 0 ****** \n",
      "\n"
     ]
    },
    {
     "name": "stderr",
     "output_type": "stream",
     "text": [
      "  7%|▋         | 2/30 [00:07<01:48,  3.89s/it]\n"
     ]
    },
    {
     "ename": "KeyboardInterrupt",
     "evalue": "",
     "output_type": "error",
     "traceback": [
      "\u001b[1;31m---------------------------------------------------------------------------\u001b[0m",
      "\u001b[1;31mKeyboardInterrupt\u001b[0m                         Traceback (most recent call last)",
      "Cell \u001b[1;32mIn[7], line 9\u001b[0m\n\u001b[0;32m      6\u001b[0m pop_size \u001b[38;5;241m=\u001b[39m \u001b[38;5;28mint\u001b[39m(row[\u001b[38;5;124m\"\u001b[39m\u001b[38;5;124mpop_size_options\u001b[39m\u001b[38;5;124m\"\u001b[39m])\n\u001b[0;32m      7\u001b[0m generations \u001b[38;5;241m=\u001b[39m \u001b[38;5;28mint\u001b[39m(row[\u001b[38;5;124m\"\u001b[39m\u001b[38;5;124mgenerations_options\u001b[39m\u001b[38;5;124m\"\u001b[39m])\n\u001b[1;32m----> 9\u001b[0m network \u001b[38;5;241m=\u001b[39m \u001b[43mrun\u001b[49m\u001b[43m(\u001b[49m\u001b[43mconfig_path\u001b[49m\u001b[43m,\u001b[49m\u001b[43m \u001b[49m\u001b[43meval_genomes_lexicase\u001b[49m\u001b[43m,\u001b[49m\u001b[43m \u001b[49m\u001b[43mpanels\u001b[49m\u001b[38;5;241;43m=\u001b[39;49m\u001b[38;5;241;43m100000\u001b[39;49m\u001b[43m,\u001b[49m\u001b[43m \u001b[49m\u001b[43mthreshold\u001b[49m\u001b[38;5;241;43m=\u001b[39;49m\u001b[43mthreshold\u001b[49m\u001b[43m,\u001b[49m\u001b[43m \u001b[49m\u001b[43mpop_size\u001b[49m\u001b[38;5;241;43m=\u001b[39;49m\u001b[43mpop_size\u001b[49m\u001b[43m,\u001b[49m\u001b[43m \u001b[49m\u001b[43mgenerations\u001b[49m\u001b[38;5;241;43m=\u001b[39;49m\u001b[43mgenerations\u001b[49m\u001b[43m)\u001b[49m\n\u001b[0;32m     11\u001b[0m EG, picked \u001b[38;5;241m=\u001b[39m create_neat_projection(combined_df, state_df, n\u001b[38;5;241m=\u001b[39m\u001b[38;5;241m100000\u001b[39m, metric \u001b[38;5;241m=\u001b[39m \u001b[38;5;124m\"\u001b[39m\u001b[38;5;124menergy_generation_per_panel\u001b[39m\u001b[38;5;124m\"\u001b[39m, network\u001b[38;5;241m=\u001b[39mnetwork, record\u001b[38;5;241m=\u001b[39m\u001b[38;5;28;01mTrue\u001b[39;00m)\n\u001b[0;32m     12\u001b[0m results_df\u001b[38;5;241m.\u001b[39mloc[index, \u001b[38;5;124m\"\u001b[39m\u001b[38;5;124menergy_generation_per_panel\u001b[39m\u001b[38;5;124m\"\u001b[39m] \u001b[38;5;241m=\u001b[39m EG\n",
      "File \u001b[1;32mc:\\Users\\Archimedes Li\\Documents\\Research\\SunSight\\Visualization\\Neat\\neat_util.py:215\u001b[0m, in \u001b[0;36mrun\u001b[1;34m(config_file, selection_method, reproduction_method, checkpoint, panels, threshold, pop_size, generations)\u001b[0m\n\u001b[0;32m    212\u001b[0m \u001b[38;5;66;03m# Run for up to 300 generations.\u001b[39;00m\n\u001b[0;32m    213\u001b[0m \u001b[38;5;28mprint\u001b[39m(\u001b[38;5;124m\"\u001b[39m\u001b[38;5;124mtraining model...\u001b[39m\u001b[38;5;124m\"\u001b[39m)\n\u001b[1;32m--> 215\u001b[0m winner \u001b[38;5;241m=\u001b[39m \u001b[43mp\u001b[49m\u001b[38;5;241;43m.\u001b[39;49m\u001b[43mrun\u001b[49m\u001b[43m(\u001b[49m\u001b[43mselection_method\u001b[49m\u001b[43m,\u001b[49m\u001b[43m \u001b[49m\u001b[43mNUM_GENERATIONS\u001b[49m\u001b[43m)\u001b[49m\n\u001b[0;32m    217\u001b[0m \u001b[38;5;66;03m# Display the winning genome.\u001b[39;00m\n\u001b[0;32m    218\u001b[0m \u001b[38;5;66;03m# print('\\nBest genome:\\n{!s}'.format(winner))\u001b[39;00m\n\u001b[0;32m    220\u001b[0m winner_net \u001b[38;5;241m=\u001b[39m neat\u001b[38;5;241m.\u001b[39mnn\u001b[38;5;241m.\u001b[39mFeedForwardNetwork\u001b[38;5;241m.\u001b[39mcreate(winner, config)\n",
      "File \u001b[1;32mc:\\Python311\\Lib\\site-packages\\neat\\population.py:89\u001b[0m, in \u001b[0;36mPopulation.run\u001b[1;34m(self, fitness_function, n)\u001b[0m\n\u001b[0;32m     86\u001b[0m \u001b[38;5;28mself\u001b[39m\u001b[38;5;241m.\u001b[39mreporters\u001b[38;5;241m.\u001b[39mstart_generation(\u001b[38;5;28mself\u001b[39m\u001b[38;5;241m.\u001b[39mgeneration)\n\u001b[0;32m     88\u001b[0m \u001b[38;5;66;03m# Evaluate all genomes using the user-provided function.\u001b[39;00m\n\u001b[1;32m---> 89\u001b[0m \u001b[43mfitness_function\u001b[49m\u001b[43m(\u001b[49m\u001b[38;5;28;43mlist\u001b[39;49m\u001b[43m(\u001b[49m\u001b[43miteritems\u001b[49m\u001b[43m(\u001b[49m\u001b[38;5;28;43mself\u001b[39;49m\u001b[38;5;241;43m.\u001b[39;49m\u001b[43mpopulation\u001b[49m\u001b[43m)\u001b[49m\u001b[43m)\u001b[49m\u001b[43m,\u001b[49m\u001b[43m \u001b[49m\u001b[38;5;28;43mself\u001b[39;49m\u001b[38;5;241;43m.\u001b[39;49m\u001b[43mconfig\u001b[49m\u001b[43m)\u001b[49m\n\u001b[0;32m     91\u001b[0m \u001b[38;5;66;03m# Gather and report statistics.\u001b[39;00m\n\u001b[0;32m     92\u001b[0m best \u001b[38;5;241m=\u001b[39m \u001b[38;5;28;01mNone\u001b[39;00m\n",
      "File \u001b[1;32mc:\\Users\\Archimedes Li\\Documents\\Research\\SunSight\\Visualization\\Neat\\neat_util.py:82\u001b[0m, in \u001b[0;36meval_genomes_lexicase\u001b[1;34m(genomes, config)\u001b[0m\n\u001b[0;32m     79\u001b[0m     genome\u001b[38;5;241m.\u001b[39mfitness \u001b[38;5;241m=\u001b[39m \u001b[38;5;241m0\u001b[39m \u001b[38;5;66;03m#set all fitness to a minimum initially\u001b[39;00m\n\u001b[0;32m     81\u001b[0m     net \u001b[38;5;241m=\u001b[39m neat\u001b[38;5;241m.\u001b[39mnn\u001b[38;5;241m.\u001b[39mFeedForwardNetwork\u001b[38;5;241m.\u001b[39mcreate(genome, config)\n\u001b[1;32m---> 82\u001b[0m     zip_order \u001b[38;5;241m=\u001b[39m \u001b[43mrun_network\u001b[49m\u001b[43m(\u001b[49m\u001b[43mnet\u001b[49m\u001b[43m,\u001b[49m\u001b[43m \u001b[49m\u001b[43mdata_manager\u001b[49m\u001b[43m)\u001b[49m\n\u001b[0;32m     83\u001b[0m     genome_info\u001b[38;5;241m.\u001b[39mappend([genome, zip_order, \u001b[38;5;241m0\u001b[39m]) \u001b[38;5;66;03m#genome pointer, zip_order, and cumulative score\u001b[39;00m\n\u001b[0;32m     85\u001b[0m \u001b[38;5;66;03m#lexicase: evaluate based on all metrics in random order\u001b[39;00m\n",
      "File \u001b[1;32mc:\\Users\\Archimedes Li\\Documents\\Research\\SunSight\\Visualization\\Neat\\neat_util.py:52\u001b[0m, in \u001b[0;36mrun_network\u001b[1;34m(net, data_manager, train, cross_val)\u001b[0m\n\u001b[0;32m     47\u001b[0m         indices \u001b[38;5;241m=\u001b[39m test_ind\n\u001b[0;32m     51\u001b[0m \u001b[38;5;28;01mfor\u001b[39;00m i \u001b[38;5;129;01min\u001b[39;00m indices:\n\u001b[1;32m---> 52\u001b[0m     score \u001b[38;5;241m=\u001b[39m net\u001b[38;5;241m.\u001b[39mactivate(\u001b[43mdata_manager\u001b[49m\u001b[38;5;241;43m.\u001b[39;49m\u001b[43mnetwork_inputs\u001b[49m\u001b[43m(\u001b[49m\u001b[43mi\u001b[49m\u001b[43m,\u001b[49m\u001b[43m \u001b[49m\u001b[43mtrain\u001b[49m\u001b[38;5;241;43m=\u001b[39;49m\u001b[38;5;28;43;01mTrue\u001b[39;49;00m\u001b[43m)\u001b[49m)\n\u001b[0;32m     53\u001b[0m     zip_outputs\u001b[38;5;241m.\u001b[39mappend((i, score))\n\u001b[0;32m     54\u001b[0m zip_outputs\u001b[38;5;241m.\u001b[39msort(key\u001b[38;5;241m=\u001b[39m\u001b[38;5;28;01mlambda\u001b[39;00m z: z[\u001b[38;5;241m1\u001b[39m], reverse\u001b[38;5;241m=\u001b[39m\u001b[38;5;28;01mTrue\u001b[39;00m) \u001b[38;5;66;03m#sort by highest score\u001b[39;00m\n",
      "File \u001b[1;32mc:\\Users\\Archimedes Li\\Documents\\Research\\SunSight\\Visualization\\Neat\\evaluation_util.py:96\u001b[0m, in \u001b[0;36mDataManager.network_inputs\u001b[1;34m(self, id, train)\u001b[0m\n\u001b[0;32m     94\u001b[0m \u001b[38;5;28;01mdef\u001b[39;00m \u001b[38;5;21mnetwork_inputs\u001b[39m(\u001b[38;5;28mself\u001b[39m, \u001b[38;5;28mid\u001b[39m, train\u001b[38;5;241m=\u001b[39m\u001b[38;5;28;01mTrue\u001b[39;00m):\n\u001b[0;32m     95\u001b[0m     \u001b[38;5;66;03m#perform polynomial basis expansion\u001b[39;00m\n\u001b[1;32m---> 96\u001b[0m     inputs \u001b[38;5;241m=\u001b[39m \u001b[38;5;28;43mself\u001b[39;49m\u001b[38;5;241;43m.\u001b[39;49m\u001b[43mpoly\u001b[49m\u001b[38;5;241;43m.\u001b[39;49m\u001b[43mfit_transform\u001b[49m\u001b[43m(\u001b[49m\u001b[43m[\u001b[49m\u001b[38;5;28;43mself\u001b[39;49m\u001b[38;5;241;43m.\u001b[39;49m\u001b[43mget_zip\u001b[49m\u001b[43m(\u001b[49m\u001b[38;5;28;43mid\u001b[39;49m\u001b[43m,\u001b[49m\u001b[43m \u001b[49m\u001b[43mtrain\u001b[49m\u001b[43m)\u001b[49m\u001b[43m]\u001b[49m\u001b[43m)\u001b[49m[\u001b[38;5;241m0\u001b[39m]\n\u001b[0;32m     97\u001b[0m     \u001b[38;5;28;01mreturn\u001b[39;00m inputs\u001b[38;5;241m.\u001b[39mtolist()\n",
      "File \u001b[1;32mc:\\Python311\\Lib\\site-packages\\sklearn\\utils\\_set_output.py:142\u001b[0m, in \u001b[0;36m_wrap_method_output.<locals>.wrapped\u001b[1;34m(self, X, *args, **kwargs)\u001b[0m\n\u001b[0;32m    140\u001b[0m \u001b[38;5;129m@wraps\u001b[39m(f)\n\u001b[0;32m    141\u001b[0m \u001b[38;5;28;01mdef\u001b[39;00m \u001b[38;5;21mwrapped\u001b[39m(\u001b[38;5;28mself\u001b[39m, X, \u001b[38;5;241m*\u001b[39margs, \u001b[38;5;241m*\u001b[39m\u001b[38;5;241m*\u001b[39mkwargs):\n\u001b[1;32m--> 142\u001b[0m     data_to_wrap \u001b[38;5;241m=\u001b[39m \u001b[43mf\u001b[49m\u001b[43m(\u001b[49m\u001b[38;5;28;43mself\u001b[39;49m\u001b[43m,\u001b[49m\u001b[43m \u001b[49m\u001b[43mX\u001b[49m\u001b[43m,\u001b[49m\u001b[43m \u001b[49m\u001b[38;5;241;43m*\u001b[39;49m\u001b[43margs\u001b[49m\u001b[43m,\u001b[49m\u001b[43m \u001b[49m\u001b[38;5;241;43m*\u001b[39;49m\u001b[38;5;241;43m*\u001b[39;49m\u001b[43mkwargs\u001b[49m\u001b[43m)\u001b[49m\n\u001b[0;32m    143\u001b[0m     \u001b[38;5;28;01mif\u001b[39;00m \u001b[38;5;28misinstance\u001b[39m(data_to_wrap, \u001b[38;5;28mtuple\u001b[39m):\n\u001b[0;32m    144\u001b[0m         \u001b[38;5;66;03m# only wrap the first output for cross decomposition\u001b[39;00m\n\u001b[0;32m    145\u001b[0m         \u001b[38;5;28;01mreturn\u001b[39;00m (\n\u001b[0;32m    146\u001b[0m             _wrap_data_with_container(method, data_to_wrap[\u001b[38;5;241m0\u001b[39m], X, \u001b[38;5;28mself\u001b[39m),\n\u001b[0;32m    147\u001b[0m             \u001b[38;5;241m*\u001b[39mdata_to_wrap[\u001b[38;5;241m1\u001b[39m:],\n\u001b[0;32m    148\u001b[0m         )\n",
      "File \u001b[1;32mc:\\Python311\\Lib\\site-packages\\sklearn\\utils\\_set_output.py:142\u001b[0m, in \u001b[0;36m_wrap_method_output.<locals>.wrapped\u001b[1;34m(self, X, *args, **kwargs)\u001b[0m\n\u001b[0;32m    140\u001b[0m \u001b[38;5;129m@wraps\u001b[39m(f)\n\u001b[0;32m    141\u001b[0m \u001b[38;5;28;01mdef\u001b[39;00m \u001b[38;5;21mwrapped\u001b[39m(\u001b[38;5;28mself\u001b[39m, X, \u001b[38;5;241m*\u001b[39margs, \u001b[38;5;241m*\u001b[39m\u001b[38;5;241m*\u001b[39mkwargs):\n\u001b[1;32m--> 142\u001b[0m     data_to_wrap \u001b[38;5;241m=\u001b[39m \u001b[43mf\u001b[49m\u001b[43m(\u001b[49m\u001b[38;5;28;43mself\u001b[39;49m\u001b[43m,\u001b[49m\u001b[43m \u001b[49m\u001b[43mX\u001b[49m\u001b[43m,\u001b[49m\u001b[43m \u001b[49m\u001b[38;5;241;43m*\u001b[39;49m\u001b[43margs\u001b[49m\u001b[43m,\u001b[49m\u001b[43m \u001b[49m\u001b[38;5;241;43m*\u001b[39;49m\u001b[38;5;241;43m*\u001b[39;49m\u001b[43mkwargs\u001b[49m\u001b[43m)\u001b[49m\n\u001b[0;32m    143\u001b[0m     \u001b[38;5;28;01mif\u001b[39;00m \u001b[38;5;28misinstance\u001b[39m(data_to_wrap, \u001b[38;5;28mtuple\u001b[39m):\n\u001b[0;32m    144\u001b[0m         \u001b[38;5;66;03m# only wrap the first output for cross decomposition\u001b[39;00m\n\u001b[0;32m    145\u001b[0m         \u001b[38;5;28;01mreturn\u001b[39;00m (\n\u001b[0;32m    146\u001b[0m             _wrap_data_with_container(method, data_to_wrap[\u001b[38;5;241m0\u001b[39m], X, \u001b[38;5;28mself\u001b[39m),\n\u001b[0;32m    147\u001b[0m             \u001b[38;5;241m*\u001b[39mdata_to_wrap[\u001b[38;5;241m1\u001b[39m:],\n\u001b[0;32m    148\u001b[0m         )\n",
      "File \u001b[1;32mc:\\Python311\\Lib\\site-packages\\sklearn\\base.py:848\u001b[0m, in \u001b[0;36mTransformerMixin.fit_transform\u001b[1;34m(self, X, y, **fit_params)\u001b[0m\n\u001b[0;32m    844\u001b[0m \u001b[38;5;66;03m# non-optimized default implementation; override when a better\u001b[39;00m\n\u001b[0;32m    845\u001b[0m \u001b[38;5;66;03m# method is possible for a given clustering algorithm\u001b[39;00m\n\u001b[0;32m    846\u001b[0m \u001b[38;5;28;01mif\u001b[39;00m y \u001b[38;5;129;01mis\u001b[39;00m \u001b[38;5;28;01mNone\u001b[39;00m:\n\u001b[0;32m    847\u001b[0m     \u001b[38;5;66;03m# fit method of arity 1 (unsupervised transformation)\u001b[39;00m\n\u001b[1;32m--> 848\u001b[0m     \u001b[38;5;28;01mreturn\u001b[39;00m \u001b[38;5;28;43mself\u001b[39;49m\u001b[38;5;241;43m.\u001b[39;49m\u001b[43mfit\u001b[49m\u001b[43m(\u001b[49m\u001b[43mX\u001b[49m\u001b[43m,\u001b[49m\u001b[43m \u001b[49m\u001b[38;5;241;43m*\u001b[39;49m\u001b[38;5;241;43m*\u001b[39;49m\u001b[43mfit_params\u001b[49m\u001b[43m)\u001b[49m\u001b[38;5;241;43m.\u001b[39;49m\u001b[43mtransform\u001b[49m\u001b[43m(\u001b[49m\u001b[43mX\u001b[49m\u001b[43m)\u001b[49m\n\u001b[0;32m    849\u001b[0m \u001b[38;5;28;01melse\u001b[39;00m:\n\u001b[0;32m    850\u001b[0m     \u001b[38;5;66;03m# fit method of arity 2 (supervised transformation)\u001b[39;00m\n\u001b[0;32m    851\u001b[0m     \u001b[38;5;28;01mreturn\u001b[39;00m \u001b[38;5;28mself\u001b[39m\u001b[38;5;241m.\u001b[39mfit(X, y, \u001b[38;5;241m*\u001b[39m\u001b[38;5;241m*\u001b[39mfit_params)\u001b[38;5;241m.\u001b[39mtransform(X)\n",
      "File \u001b[1;32mc:\\Python311\\Lib\\site-packages\\sklearn\\utils\\_set_output.py:142\u001b[0m, in \u001b[0;36m_wrap_method_output.<locals>.wrapped\u001b[1;34m(self, X, *args, **kwargs)\u001b[0m\n\u001b[0;32m    140\u001b[0m \u001b[38;5;129m@wraps\u001b[39m(f)\n\u001b[0;32m    141\u001b[0m \u001b[38;5;28;01mdef\u001b[39;00m \u001b[38;5;21mwrapped\u001b[39m(\u001b[38;5;28mself\u001b[39m, X, \u001b[38;5;241m*\u001b[39margs, \u001b[38;5;241m*\u001b[39m\u001b[38;5;241m*\u001b[39mkwargs):\n\u001b[1;32m--> 142\u001b[0m     data_to_wrap \u001b[38;5;241m=\u001b[39m \u001b[43mf\u001b[49m\u001b[43m(\u001b[49m\u001b[38;5;28;43mself\u001b[39;49m\u001b[43m,\u001b[49m\u001b[43m \u001b[49m\u001b[43mX\u001b[49m\u001b[43m,\u001b[49m\u001b[43m \u001b[49m\u001b[38;5;241;43m*\u001b[39;49m\u001b[43margs\u001b[49m\u001b[43m,\u001b[49m\u001b[43m \u001b[49m\u001b[38;5;241;43m*\u001b[39;49m\u001b[38;5;241;43m*\u001b[39;49m\u001b[43mkwargs\u001b[49m\u001b[43m)\u001b[49m\n\u001b[0;32m    143\u001b[0m     \u001b[38;5;28;01mif\u001b[39;00m \u001b[38;5;28misinstance\u001b[39m(data_to_wrap, \u001b[38;5;28mtuple\u001b[39m):\n\u001b[0;32m    144\u001b[0m         \u001b[38;5;66;03m# only wrap the first output for cross decomposition\u001b[39;00m\n\u001b[0;32m    145\u001b[0m         \u001b[38;5;28;01mreturn\u001b[39;00m (\n\u001b[0;32m    146\u001b[0m             _wrap_data_with_container(method, data_to_wrap[\u001b[38;5;241m0\u001b[39m], X, \u001b[38;5;28mself\u001b[39m),\n\u001b[0;32m    147\u001b[0m             \u001b[38;5;241m*\u001b[39mdata_to_wrap[\u001b[38;5;241m1\u001b[39m:],\n\u001b[0;32m    148\u001b[0m         )\n",
      "File \u001b[1;32mc:\\Python311\\Lib\\site-packages\\sklearn\\preprocessing\\_polynomial.py:422\u001b[0m, in \u001b[0;36mPolynomialFeatures.transform\u001b[1;34m(self, X)\u001b[0m\n\u001b[0;32m    420\u001b[0m \u001b[38;5;66;03m# degree 1 term\u001b[39;00m\n\u001b[0;32m    421\u001b[0m XP[:, current_col : current_col \u001b[38;5;241m+\u001b[39m n_features] \u001b[38;5;241m=\u001b[39m X\n\u001b[1;32m--> 422\u001b[0m index \u001b[38;5;241m=\u001b[39m \u001b[38;5;28mlist\u001b[39m(\u001b[38;5;28mrange\u001b[39m(current_col, current_col \u001b[38;5;241m+\u001b[39m n_features))\n\u001b[0;32m    423\u001b[0m current_col \u001b[38;5;241m+\u001b[39m\u001b[38;5;241m=\u001b[39m n_features\n\u001b[0;32m    424\u001b[0m index\u001b[38;5;241m.\u001b[39mappend(current_col)\n",
      "\u001b[1;31mKeyboardInterrupt\u001b[0m: "
     ]
    }
   ],
   "source": [
    "from projections_util import create_equity_projection_from_picked, create_neat_projection\n",
    "\n",
    "for index, row in results_df.iterrows():\n",
    "\n",
    "    threshold = row[\"threshold_options\"]\n",
    "    pop_size = int(row[\"pop_size_options\"])\n",
    "    generations = int(row[\"generations_options\"])\n",
    "\n",
    "    network = run(config_path, eval_genomes_lexicase, panels=100000, threshold=threshold, pop_size=pop_size, generations=generations)\n",
    "\n",
    "    EG, picked = create_neat_projection(combined_df, state_df, n=100000, metric = \"energy_generation_per_panel\", network=network, record=True)\n",
    "    results_df.loc[index, \"energy_generation_per_panel\"] = EG[-1]\n",
    "\n",
    "    CO, _ = create_neat_projection(combined_df, state_df, n=100000, metric = \"carbon_offset_kg_per_panel\", network=network, record=True)\n",
    "    results_df.loc[index, \"carbon_offset_kg_per_panel\"] = CO[-1]\n",
    "\n",
    "    RE = create_equity_projection_from_picked(combined_df, picked, n=100000, metric = \"black_prop\")\n",
    "    results_df.loc[index, \"black_prop\"] = RE[-1]\n",
    "\n",
    "    IE = create_equity_projection_from_picked(combined_df, picked, n=100000, metric = \"Median_income\")\n",
    "    results_df.loc[index, \"Median_income\"] = IE[-1]\n",
    "\n",
    "    print(\"Hyperparams:\", [threshold, pop_size, generations])\n",
    "    print(\"Results:\", [EG, CO, RE, IE])\n",
    "    print(\"-----------\")"
   ]
  },
  {
   "cell_type": "code",
   "execution_count": null,
   "metadata": {},
   "outputs": [],
   "source": []
  }
 ],
 "metadata": {
  "kernelspec": {
   "display_name": "Python 3",
   "language": "python",
   "name": "python3"
  },
  "language_info": {
   "codemirror_mode": {
    "name": "ipython",
    "version": 3
   },
   "file_extension": ".py",
   "mimetype": "text/x-python",
   "name": "python",
   "nbconvert_exporter": "python",
   "pygments_lexer": "ipython3",
   "version": "3.11.0"
  }
 },
 "nbformat": 4,
 "nbformat_minor": 2
}
