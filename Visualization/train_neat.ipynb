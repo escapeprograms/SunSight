{
 "cells": [
  {
   "cell_type": "code",
   "execution_count": 1,
   "metadata": {},
   "outputs": [
    {
     "name": "stdout",
     "output_type": "stream",
     "text": [
      "Loading data_manager for NEAT\n",
      "Loading Data\n",
      "number of zip codes: 10559\n",
      "number of zip codes with solar data: 10559\n",
      "number of zip codes with census data: 10559\n",
      "Removing Outliers\n",
      "zips after removing outliers: 7795\n"
     ]
    }
   ],
   "source": [
    "from datetime import datetime\n",
    "import os\n",
    "import pickle\n",
    "import neat\n",
    "import numpy as np\n",
    "from Neat.evaluation_util import DataManager\n",
    "from Neat.selection_util import TournamentReproduction, FitnessPropReproduction\n",
    "from data_load_util import load_state_data, make_dataset\n",
    "from tqdm import tqdm\n",
    "import random\n",
    "from Neat.saving_util import *\n",
    "from Neat.neat_util import *"
   ]
  },
  {
   "cell_type": "code",
   "execution_count": 2,
   "metadata": {},
   "outputs": [
    {
     "name": "stdout",
     "output_type": "stream",
     "text": [
      "Loading Data\n",
      "number of zip codes: 10559\n",
      "number of zip codes with solar data: 10559\n",
      "number of zip codes with census data: 10559\n",
      "Removing Outliers\n",
      "zips after removing outliers: 7795\n"
     ]
    }
   ],
   "source": [
    "config_path = 'Neat/neat-config'\n",
    "\n",
    "#load datasets\n",
    "combined_df = make_dataset(remove_outliers=True)\n",
    "state_df = load_state_data(combined_df, load=\"Clean_Data/data_by_state.csv\")\n",
    "data_manager = DataManager(combined_df, state_df)\n",
    "k_folds = 5"
   ]
  },
  {
   "cell_type": "code",
   "execution_count": 3,
   "metadata": {},
   "outputs": [
    {
     "name": "stdout",
     "output_type": "stream",
     "text": [
      "NUM_PANELS=1000000 NUM_GENERATIONS=3 METRIC_WEIGHTS=[1, 1, 1, 1] OVERALL_THRESHOLD=0.3\n",
      "loading configuration...\n",
      "creating population...\n",
      "setting reporters...\n",
      "training model...\n",
      "\n",
      " ****** Running generation 0 ****** \n",
      "\n"
     ]
    },
    {
     "name": "stderr",
     "output_type": "stream",
     "text": [
      "100%|██████████| 100/100 [07:39<00:00,  4.60s/it]\n"
     ]
    },
    {
     "name": "stdout",
     "output_type": "stream",
     "text": [
      "Population's average fitness: -inf stdev: nan\n",
      "Best fitness: 3.09070 - size: (1, 6) - species 1 - id 17\n",
      "Average adjusted fitness: nan\n",
      "Mean genetic distance 1.292, standard deviation 0.433\n",
      "Population of 100 members in 1 species:\n",
      "   ID   age  size  fitness  adj fit  stag\n",
      "  ====  ===  ====  =======  =======  ====\n",
      "     1    0   100      3.1      nan     0\n",
      "Total extinctions: 0\n",
      "Generation time: 1902.627 sec\n",
      "Saving checkpoint to Neat/checkpoints/neat-checkpoint-0\n",
      "\n",
      " ****** Running generation 1 ****** \n",
      "\n"
     ]
    },
    {
     "name": "stderr",
     "output_type": "stream",
     "text": [
      "100%|██████████| 100/100 [10:10<00:00,  6.11s/it]\n"
     ]
    },
    {
     "name": "stdout",
     "output_type": "stream",
     "text": [
      "Population's average fitness: -inf stdev: nan\n",
      "Best fitness: 3.42654 - size: (2, 7) - species 1 - id 109\n",
      "Average adjusted fitness: nan\n",
      "Mean genetic distance 1.511, standard deviation 0.476\n",
      "Population of 100 members in 1 species:\n",
      "   ID   age  size  fitness  adj fit  stag\n",
      "  ====  ===  ====  =======  =======  ====\n",
      "     1    1   100      3.4      nan     0\n",
      "Total extinctions: 0\n",
      "Generation time: 1497.476 sec (1700.052 average)\n",
      "Saving checkpoint to Neat/checkpoints/neat-checkpoint-1\n",
      "\n",
      " ****** Running generation 2 ****** \n",
      "\n"
     ]
    },
    {
     "name": "stderr",
     "output_type": "stream",
     "text": [
      "100%|██████████| 100/100 [06:10<00:00,  3.71s/it]\n"
     ]
    },
    {
     "name": "stdout",
     "output_type": "stream",
     "text": [
      "Population's average fitness: -inf stdev: nan\n",
      "Best fitness: 3.40299 - size: (1, 3) - species 1 - id 233\n",
      "Average adjusted fitness: nan\n",
      "Mean genetic distance 1.506, standard deviation 0.468\n",
      "Population of 100 members in 1 species:\n",
      "   ID   age  size  fitness  adj fit  stag\n",
      "  ====  ===  ====  =======  =======  ====\n",
      "     1    2   100      3.4      nan     1\n",
      "Total extinctions: 0\n",
      "Generation time: 1204.916 sec (1535.006 average)\n",
      "Saving checkpoint to Neat/checkpoints/neat-checkpoint-2\n",
      "\n",
      "Best individual in generation 2 meets fitness threshold - complexity: (2, 7)\n",
      "directory name: Neat/models\\12-25-24\n",
      "making directory\n"
     ]
    }
   ],
   "source": [
    "#single model run\n",
    "network = run(config_path, eval_genomes_lexicase)\n",
    "save_model(network, model_name=\"NEAT_model1M.pkl\")\n",
    "cv_order = run_network(network, data_manager, cross_val=True)"
   ]
  },
  {
   "cell_type": "code",
   "execution_count": null,
   "metadata": {},
   "outputs": [
    {
     "ename": "NameError",
     "evalue": "name 'K_fold_run' is not defined",
     "output_type": "error",
     "traceback": [
      "\u001b[1;31m---------------------------------------------------------------------------\u001b[0m",
      "\u001b[1;31mNameError\u001b[0m                                 Traceback (most recent call last)",
      "Cell \u001b[1;32mIn[3], line 2\u001b[0m\n\u001b[0;32m      1\u001b[0m \u001b[38;5;66;03m#run lexicase\u001b[39;00m\n\u001b[1;32m----> 2\u001b[0m lexi_network, lexi_results \u001b[38;5;241m=\u001b[39m \u001b[43mK_fold_run\u001b[49m(config_path, data_manager, eval_genomes_lexicase, k\u001b[38;5;241m=\u001b[39mk_folds)\n\u001b[0;32m      3\u001b[0m save_model(lexi_network, lexi_results, model_name\u001b[38;5;241m=\u001b[39m\u001b[38;5;124m\"\u001b[39m\u001b[38;5;124mNEAT_model_lexicase.pkl\u001b[39m\u001b[38;5;124m\"\u001b[39m, results_name\u001b[38;5;241m=\u001b[39m\u001b[38;5;124m\"\u001b[39m\u001b[38;5;124mlexicase_results.pkl\u001b[39m\u001b[38;5;124m\"\u001b[39m)\n\u001b[0;32m      5\u001b[0m \u001b[38;5;66;03m#run fitness prop\u001b[39;00m\n",
      "\u001b[1;31mNameError\u001b[0m: name 'K_fold_run' is not defined"
     ]
    }
   ],
   "source": [
    "\n",
    "#run lexicase\n",
    "lexi_network, lexi_results = K_fold_run(config_path, data_manager, eval_genomes_lexicase, k=k_folds)\n",
    "save_model(lexi_network, lexi_results, model_name=\"NEAT_model_lexicase.pkl\", results_name=\"lexicase_results.pkl\")\n",
    "\n",
    "#run fitness prop\n",
    "fp_network, fp_results = K_fold_run(config_path, data_manager, eval_genomes_weighted_sum, reproduction_method=FitnessPropReproduction, k=k_folds)\n",
    "save_model(fp_network, fp_results, model_name=\"NEAT_model_fitness_prop.pkl\", results_name=\"fitness_prop_results.pkl\")\n",
    "\n",
    "#tournament selection\n",
    "tourney_network, tourney_results = K_fold_run(config_path, data_manager, eval_genomes_weighted_sum, reproduction_method=TournamentReproduction, k=k_folds)\n",
    "save_model(tourney_network, model_name=\"NEAT_model_tournament.pkl\", results_name=\"tournament_results.pkl\")\n",
    "\n",
    "#run random selection\n",
    "rand_network, rand_results = K_fold_run(config_path, data_manager, eval_genomes_random, k=k_folds)\n",
    "save_model(rand_network, model_name=\"NEAT_model_random.pkl\")\n",
    "\n",
    "#print results\n",
    "result_metrics = ['income_equity', 'racial_equity', 'carbon_offset', 'energy_generation']\n",
    "for i, res in enumerate(lexi_results):\n",
    "    print(f\"Lexicase {result_metrics[i]}\", res)\n",
    "\n",
    "for i, res in enumerate(fp_results):\n",
    "    print(f\"Fitness prop {result_metrics[i]}\", res)\n",
    "    \n",
    "for i, res in enumerate(tourney_results):\n",
    "    print(f\"Tourney {result_metrics[i]}\", res)\n",
    "\n",
    "for i, res in enumerate(rand_results):\n",
    "    print(f\"Random {result_metrics[i]}\", res)\n",
    "\n",
    "# for i, res in enumerate(rand_results):\n",
    "#     print(f\"Random {result_metrics[i]}\", res)\n"
   ]
  },
  {
   "cell_type": "code",
   "execution_count": null,
   "metadata": {},
   "outputs": [],
   "source": []
  }
 ],
 "metadata": {
  "kernelspec": {
   "display_name": "Python 3",
   "language": "python",
   "name": "python3"
  },
  "language_info": {
   "codemirror_mode": {
    "name": "ipython",
    "version": 3
   },
   "file_extension": ".py",
   "mimetype": "text/x-python",
   "name": "python",
   "nbconvert_exporter": "python",
   "pygments_lexer": "ipython3",
   "version": "3.11.0"
  }
 },
 "nbformat": 4,
 "nbformat_minor": 2
}
