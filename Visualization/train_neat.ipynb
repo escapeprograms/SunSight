{
 "cells": [
  {
   "cell_type": "code",
   "execution_count": 1,
   "metadata": {},
   "outputs": [
    {
     "name": "stdout",
     "output_type": "stream",
     "text": [
      "Loading data_manager for NEAT\n",
      "Loading Data\n",
      "number of zip codes: 10559\n",
      "number of zip codes with solar data: 10559\n",
      "number of zip codes with census data: 10559\n",
      "Removing Outliers\n",
      "zips after removing outliers: 7795\n"
     ]
    }
   ],
   "source": [
    "from datetime import datetime\n",
    "import os\n",
    "import pickle\n",
    "import neat\n",
    "import numpy as np\n",
    "from Neat.evaluation_util import DataManager\n",
    "from Neat.selection_util import TournamentReproduction, FitnessPropReproduction\n",
    "from data_load_util import load_state_data, make_dataset\n",
    "from tqdm import tqdm\n",
    "import random\n",
    "from Neat.saving_util import *\n",
    "from Neat.neat_util import *"
   ]
  },
  {
   "cell_type": "code",
   "execution_count": 2,
   "metadata": {},
   "outputs": [
    {
     "name": "stdout",
     "output_type": "stream",
     "text": [
      "Loading Data\n",
      "number of zip codes: 10559\n",
      "number of zip codes with solar data: 10559\n",
      "number of zip codes with census data: 10559\n",
      "Removing Outliers\n",
      "zips after removing outliers: 7795\n"
     ]
    }
   ],
   "source": [
    "config_path = 'Neat/neat-config'\n",
    "\n",
    "#load datasets\n",
    "combined_df = make_dataset(remove_outliers=True)\n",
    "state_df = load_state_data(combined_df, load=\"Clean_Data/data_by_state.csv\")\n",
    "data_manager = DataManager(combined_df, state_df)\n",
    "k_folds = 5"
   ]
  },
  {
   "cell_type": "code",
   "execution_count": null,
   "metadata": {},
   "outputs": [
    {
     "name": "stdout",
     "output_type": "stream",
     "text": [
      "NUM_PANELS=100000 NUM_GENERATIONS=3 METRIC_WEIGHTS=[1, 1, 1, 1] OVERALL_THRESHOLD=0.3\n",
      "loading configuration...\n",
      "creating population...\n",
      "setting reporters...\n",
      "training model...\n",
      "\n",
      " ****** Running generation 0 ****** \n",
      "\n"
     ]
    },
    {
     "name": "stderr",
     "output_type": "stream",
     "text": [
      "100%|██████████| 100/100 [05:34<00:00,  3.34s/it]\n"
     ]
    },
    {
     "name": "stdout",
     "output_type": "stream",
     "text": [
      "Population's average fitness: -inf stdev: nan\n",
      "Best fitness: 3.48535 - size: (1, 6) - species 1 - id 85\n",
      "Average adjusted fitness: nan\n",
      "Mean genetic distance 1.352, standard deviation 0.459\n",
      "Population of 100 members in 1 species:\n",
      "   ID   age  size  fitness  adj fit  stag\n",
      "  ====  ===  ====  =======  =======  ====\n",
      "     1    0   100      3.5      nan     0\n",
      "Total extinctions: 0\n",
      "Generation time: 417.490 sec\n",
      "\n",
      " ****** Running generation 1 ****** \n",
      "\n"
     ]
    },
    {
     "name": "stderr",
     "output_type": "stream",
     "text": [
      "100%|██████████| 100/100 [05:48<00:00,  3.48s/it]\n"
     ]
    },
    {
     "name": "stdout",
     "output_type": "stream",
     "text": [
      "Population's average fitness: -inf stdev: nan\n",
      "Best fitness: 3.29947 - size: (1, 6) - species 1 - id 167\n",
      "Average adjusted fitness: nan\n",
      "Mean genetic distance 1.341, standard deviation 0.421\n",
      "Population of 100 members in 1 species:\n",
      "   ID   age  size  fitness  adj fit  stag\n",
      "  ====  ===  ====  =======  =======  ====\n",
      "     1    1   100      3.3      nan     1\n",
      "Total extinctions: 0\n",
      "Generation time: 430.091 sec (423.791 average)\n",
      "\n",
      " ****** Running generation 2 ****** \n",
      "\n"
     ]
    },
    {
     "name": "stderr",
     "output_type": "stream",
     "text": [
      "100%|██████████| 100/100 [05:50<00:00,  3.50s/it]\n"
     ]
    },
    {
     "name": "stdout",
     "output_type": "stream",
     "text": [
      "Population's average fitness: -inf stdev: nan\n",
      "Best fitness: 3.28518 - size: (1, 5) - species 1 - id 272\n",
      "Average adjusted fitness: nan\n",
      "Mean genetic distance 1.845, standard deviation 0.796\n",
      "Population of 100 members in 2 species:\n",
      "   ID   age  size  fitness  adj fit  stag\n",
      "  ====  ===  ====  =======  =======  ====\n",
      "     1    2    90      3.3      nan     2\n",
      "     2    0    10       --       --     0\n",
      "Total extinctions: 0\n",
      "Generation time: 432.983 sec (426.855 average)\n",
      "Saving checkpoint to Neat/checkpoints/neat-checkpoint-2\n",
      "\n",
      "Best individual in generation 2 meets fitness threshold - complexity: (1, 6)\n",
      "directory name: Neat/models\\12-24-24\n",
      "making directory\n"
     ]
    }
   ],
   "source": [
    "#single model run\n",
    "network = run(config_path, eval_genomes_lexicase)\n",
    "save_model(network, model_name=\"NEAT_model1M.pkl\")\n",
    "cv_order = run_network(network, data_manager, cross_val=True)"
   ]
  },
  {
   "cell_type": "code",
   "execution_count": null,
   "metadata": {},
   "outputs": [
    {
     "ename": "NameError",
     "evalue": "name 'K_fold_run' is not defined",
     "output_type": "error",
     "traceback": [
      "\u001b[1;31m---------------------------------------------------------------------------\u001b[0m",
      "\u001b[1;31mNameError\u001b[0m                                 Traceback (most recent call last)",
      "Cell \u001b[1;32mIn[3], line 2\u001b[0m\n\u001b[0;32m      1\u001b[0m \u001b[38;5;66;03m#run lexicase\u001b[39;00m\n\u001b[1;32m----> 2\u001b[0m lexi_network, lexi_results \u001b[38;5;241m=\u001b[39m \u001b[43mK_fold_run\u001b[49m(config_path, data_manager, eval_genomes_lexicase, k\u001b[38;5;241m=\u001b[39mk_folds)\n\u001b[0;32m      3\u001b[0m save_model(lexi_network, lexi_results, model_name\u001b[38;5;241m=\u001b[39m\u001b[38;5;124m\"\u001b[39m\u001b[38;5;124mNEAT_model_lexicase.pkl\u001b[39m\u001b[38;5;124m\"\u001b[39m, results_name\u001b[38;5;241m=\u001b[39m\u001b[38;5;124m\"\u001b[39m\u001b[38;5;124mlexicase_results.pkl\u001b[39m\u001b[38;5;124m\"\u001b[39m)\n\u001b[0;32m      5\u001b[0m \u001b[38;5;66;03m#run fitness prop\u001b[39;00m\n",
      "\u001b[1;31mNameError\u001b[0m: name 'K_fold_run' is not defined"
     ]
    }
   ],
   "source": [
    "\n",
    "#run lexicase\n",
    "lexi_network, lexi_results = K_fold_run(config_path, data_manager, eval_genomes_lexicase, k=k_folds)\n",
    "save_model(lexi_network, lexi_results, model_name=\"NEAT_model_lexicase.pkl\", results_name=\"lexicase_results.pkl\")\n",
    "\n",
    "#run fitness prop\n",
    "fp_network, fp_results = K_fold_run(config_path, data_manager, eval_genomes_weighted_sum, reproduction_method=FitnessPropReproduction, k=k_folds)\n",
    "save_model(fp_network, fp_results, model_name=\"NEAT_model_fitness_prop.pkl\", results_name=\"fitness_prop_results.pkl\")\n",
    "\n",
    "#tournament selection\n",
    "tourney_network, tourney_results = K_fold_run(config_path, data_manager, eval_genomes_weighted_sum, reproduction_method=TournamentReproduction, k=k_folds)\n",
    "save_model(tourney_network, model_name=\"NEAT_model_tournament.pkl\", results_name=\"tournament_results.pkl\")\n",
    "\n",
    "#run random selection\n",
    "rand_network, rand_results = K_fold_run(config_path, data_manager, eval_genomes_random, k=k_folds)\n",
    "save_model(rand_network, model_name=\"NEAT_model_random.pkl\")\n",
    "\n",
    "#print results\n",
    "result_metrics = ['income_equity', 'racial_equity', 'carbon_offset', 'energy_generation']\n",
    "for i, res in enumerate(lexi_results):\n",
    "    print(f\"Lexicase {result_metrics[i]}\", res)\n",
    "\n",
    "for i, res in enumerate(fp_results):\n",
    "    print(f\"Fitness prop {result_metrics[i]}\", res)\n",
    "    \n",
    "for i, res in enumerate(tourney_results):\n",
    "    print(f\"Tourney {result_metrics[i]}\", res)\n",
    "\n",
    "for i, res in enumerate(rand_results):\n",
    "    print(f\"Random {result_metrics[i]}\", res)\n",
    "\n",
    "# for i, res in enumerate(rand_results):\n",
    "#     print(f\"Random {result_metrics[i]}\", res)\n"
   ]
  },
  {
   "cell_type": "code",
   "execution_count": null,
   "metadata": {},
   "outputs": [],
   "source": []
  }
 ],
 "metadata": {
  "kernelspec": {
   "display_name": "Python 3",
   "language": "python",
   "name": "python3"
  },
  "language_info": {
   "codemirror_mode": {
    "name": "ipython",
    "version": 3
   },
   "file_extension": ".py",
   "mimetype": "text/x-python",
   "name": "python",
   "nbconvert_exporter": "python",
   "pygments_lexer": "ipython3",
   "version": "3.11.0"
  }
 },
 "nbformat": 4,
 "nbformat_minor": 2
}
