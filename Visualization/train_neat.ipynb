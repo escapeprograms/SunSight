{
 "cells": [
  {
   "cell_type": "code",
   "execution_count": 1,
   "metadata": {},
   "outputs": [
    {
     "name": "stdout",
     "output_type": "stream",
     "text": [
      "Loading data_manager for NEAT\n",
      "Loading Data\n",
      "number of zip codes: 10559\n",
      "number of zip codes with solar data: 10559\n",
      "number of zip codes with census data: 10559\n",
      "Removing Outliers\n",
      "zips after removing outliers: 7795\n"
     ]
    }
   ],
   "source": [
    "from datetime import datetime\n",
    "import os\n",
    "import pickle\n",
    "import neat\n",
    "import numpy as np\n",
    "from Neat.evaluation_util import DataManager\n",
    "from Neat.selection_util import TournamentReproduction, FitnessPropReproduction\n",
    "from data_load_util import load_state_data, make_dataset\n",
    "from tqdm import tqdm\n",
    "import random\n",
    "from Neat.saving_util import *\n",
    "from Neat.neat_util import *"
   ]
  },
  {
   "cell_type": "code",
   "execution_count": 2,
   "metadata": {},
   "outputs": [
    {
     "name": "stdout",
     "output_type": "stream",
     "text": [
      "Loading Data\n",
      "number of zip codes: 10559\n",
      "number of zip codes with solar data: 10559\n",
      "number of zip codes with census data: 10559\n",
      "Removing Outliers\n",
      "zips after removing outliers: 7795\n"
     ]
    }
   ],
   "source": [
    "config_path = 'Neat/neat-config'\n",
    "\n",
    "#load datasets\n",
    "combined_df = make_dataset(remove_outliers=True)\n",
    "state_df = load_state_data(combined_df, load=\"Clean_Data/data_by_state.csv\")\n",
    "data_manager = DataManager(combined_df, state_df)\n",
    "k_folds = 5"
   ]
  },
  {
   "cell_type": "code",
   "execution_count": null,
   "metadata": {},
   "outputs": [
    {
     "name": "stdout",
     "output_type": "stream",
     "text": [
      "loading configuration...\n",
      "creating population...\n",
      "setting reporters...\n",
      "training model...\n",
      "\n",
      " ****** Running generation 0 ****** \n",
      "\n"
     ]
    },
    {
     "name": "stderr",
     "output_type": "stream",
     "text": [
      "100%|██████████| 100/100 [05:37<00:00,  3.38s/it]\n"
     ]
    },
    {
     "name": "stdout",
     "output_type": "stream",
     "text": [
      "Population's average fitness: -inf stdev: nan\n",
      "Best fitness: 5.09091 - size: (1, 6) - species 1 - id 22\n",
      "Average adjusted fitness: nan\n",
      "Mean genetic distance 1.701, standard deviation 0.522\n",
      "Population of 100 members in 1 species:\n",
      "   ID   age  size  fitness  adj fit  stag\n",
      "  ====  ===  ====  =======  =======  ====\n",
      "     1    0   100      5.1      nan     0\n",
      "Total extinctions: 0\n",
      "Generation time: 411.836 sec\n",
      "\n",
      " ****** Running generation 1 ****** \n",
      "\n"
     ]
    },
    {
     "name": "stderr",
     "output_type": "stream",
     "text": [
      "100%|██████████| 100/100 [06:21<00:00,  3.82s/it]\n"
     ]
    },
    {
     "name": "stdout",
     "output_type": "stream",
     "text": [
      "Population's average fitness: -inf stdev: nan\n",
      "Best fitness: 5.26051 - size: (1, 6) - species 1 - id 191\n",
      "Average adjusted fitness: nan\n",
      "Mean genetic distance 1.775, standard deviation 0.435\n",
      "Population of 100 members in 1 species:\n",
      "   ID   age  size  fitness  adj fit  stag\n",
      "  ====  ===  ====  =======  =======  ====\n",
      "     1    1   100      5.3      nan     0\n",
      "Total extinctions: 0\n",
      "Generation time: 477.933 sec (444.885 average)\n",
      "\n",
      " ****** Running generation 2 ****** \n",
      "\n"
     ]
    },
    {
     "name": "stderr",
     "output_type": "stream",
     "text": [
      "100%|██████████| 100/100 [05:55<00:00,  3.56s/it]\n"
     ]
    },
    {
     "name": "stdout",
     "output_type": "stream",
     "text": [
      "Population's average fitness: -inf stdev: nan\n",
      "Best fitness: 5.15675 - size: (1, 5) - species 1 - id 296\n",
      "Average adjusted fitness: nan\n",
      "Mean genetic distance 1.942, standard deviation 0.537\n",
      "Population of 100 members in 2 species:\n",
      "   ID   age  size  fitness  adj fit  stag\n",
      "  ====  ===  ====  =======  =======  ====\n",
      "     1    2    63      5.2      nan     1\n",
      "     2    0    37       --       --     0\n",
      "Total extinctions: 0\n",
      "Generation time: 427.770 sec (439.180 average)\n",
      "Saving checkpoint to Neat/checkpoints/neat-checkpoint-2\n",
      "\n",
      "Best individual in generation 2 meets fitness threshold - complexity: (1, 6)\n",
      "directory name: Neat/models\\12-18-24\n",
      "making directory\n"
     ]
    },
    {
     "ename": "IndexError",
     "evalue": "list index out of range",
     "output_type": "error",
     "traceback": [
      "\u001b[1;31m---------------------------------------------------------------------------\u001b[0m",
      "\u001b[1;31mIndexError\u001b[0m                                Traceback (most recent call last)",
      "Cell \u001b[1;32mIn[3], line 8\u001b[0m\n\u001b[0;32m      3\u001b[0m save_model(network, model_name\u001b[38;5;241m=\u001b[39m\u001b[38;5;124m\"\u001b[39m\u001b[38;5;124mNEAT_model_lexicase.pkl\u001b[39m\u001b[38;5;124m\"\u001b[39m)\n\u001b[0;32m      6\u001b[0m cv_order \u001b[38;5;241m=\u001b[39m run_network(network, data_manager, cross_val\u001b[38;5;241m=\u001b[39m\u001b[38;5;28;01mTrue\u001b[39;00m)\n\u001b[1;32m----> 8\u001b[0m \u001b[38;5;28mprint\u001b[39m(\u001b[38;5;124m\"\u001b[39m\u001b[38;5;124mCarbon Offset score: \u001b[39m\u001b[38;5;124m\"\u001b[39m,\u001b[43mdata_manager\u001b[49m\u001b[38;5;241;43m.\u001b[39;49m\u001b[43mscore\u001b[49m\u001b[43m(\u001b[49m\u001b[43mcv_order\u001b[49m\u001b[43m,\u001b[49m\u001b[43m \u001b[49m\u001b[38;5;124;43m'\u001b[39;49m\u001b[38;5;124;43mcarbon_offset\u001b[39;49m\u001b[38;5;124;43m'\u001b[39;49m\u001b[43m,\u001b[49m\u001b[43m \u001b[49m\u001b[43mNUM_PANELS\u001b[49m\u001b[43m,\u001b[49m\u001b[43m \u001b[49m\u001b[43mtrain\u001b[49m\u001b[38;5;241;43m=\u001b[39;49m\u001b[38;5;28;43;01mTrue\u001b[39;49;00m\u001b[43m)\u001b[49m)\n\u001b[0;32m     10\u001b[0m \u001b[38;5;28mprint\u001b[39m(\u001b[38;5;124m\"\u001b[39m\u001b[38;5;124mEnergy Generation score: \u001b[39m\u001b[38;5;124m\"\u001b[39m,data_manager\u001b[38;5;241m.\u001b[39mscore(cv_order, \u001b[38;5;124m'\u001b[39m\u001b[38;5;124menergy_generation\u001b[39m\u001b[38;5;124m'\u001b[39m, NUM_PANELS, train\u001b[38;5;241m=\u001b[39m\u001b[38;5;28;01mTrue\u001b[39;00m))\n",
      "File \u001b[1;32mc:\\Users\\Archimedes Li\\Documents\\Research\\SunSight\\Visualization\\Neat\\evaluation_util.py:213\u001b[0m, in \u001b[0;36mDataManager.score\u001b[1;34m(self, zip_order, mode, n, record, train)\u001b[0m\n\u001b[0;32m    211\u001b[0m     \u001b[38;5;28;01mreturn\u001b[39;00m \u001b[38;5;28mself\u001b[39m\u001b[38;5;241m.\u001b[39mscore_income_equity(zip_order, n, train\u001b[38;5;241m=\u001b[39mtrain)\n\u001b[0;32m    212\u001b[0m \u001b[38;5;28;01melif\u001b[39;00m mode \u001b[38;5;241m==\u001b[39m \u001b[38;5;124m\"\u001b[39m\u001b[38;5;124mcarbon_offset\u001b[39m\u001b[38;5;124m\"\u001b[39m: \u001b[38;5;66;03m# judge based on carbon offset\u001b[39;00m\n\u001b[1;32m--> 213\u001b[0m     \u001b[38;5;28;01mreturn\u001b[39;00m \u001b[38;5;28;43mself\u001b[39;49m\u001b[38;5;241;43m.\u001b[39;49m\u001b[43mscore_carbon_offset\u001b[49m\u001b[43m(\u001b[49m\u001b[43mzip_order\u001b[49m\u001b[43m,\u001b[49m\u001b[43m \u001b[49m\u001b[43mn\u001b[49m\u001b[43m,\u001b[49m\u001b[43m \u001b[49m\u001b[43mtrain\u001b[49m\u001b[38;5;241;43m=\u001b[39;49m\u001b[43mtrain\u001b[49m\u001b[43m)\u001b[49m\n\u001b[0;32m    214\u001b[0m \u001b[38;5;28;01melif\u001b[39;00m mode \u001b[38;5;241m==\u001b[39m \u001b[38;5;124m\"\u001b[39m\u001b[38;5;124menergy_generation\u001b[39m\u001b[38;5;124m\"\u001b[39m: \u001b[38;5;66;03m# judge based on energy generation\u001b[39;00m\n\u001b[0;32m    215\u001b[0m     \u001b[38;5;28;01mreturn\u001b[39;00m \u001b[38;5;28mself\u001b[39m\u001b[38;5;241m.\u001b[39mscore_energy_generation(zip_order, n, train\u001b[38;5;241m=\u001b[39mtrain)\n",
      "File \u001b[1;32mc:\\Users\\Archimedes Li\\Documents\\Research\\SunSight\\Visualization\\Neat\\evaluation_util.py:261\u001b[0m, in \u001b[0;36mDataManager.score_carbon_offset\u001b[1;34m(self, zip_order, n, train)\u001b[0m\n\u001b[0;32m    260\u001b[0m \u001b[38;5;28;01mdef\u001b[39;00m \u001b[38;5;21mscore_carbon_offset\u001b[39m(\u001b[38;5;28mself\u001b[39m, zip_order, n\u001b[38;5;241m=\u001b[39m\u001b[38;5;241m1000\u001b[39m, train\u001b[38;5;241m=\u001b[39m\u001b[38;5;28;01mTrue\u001b[39;00m):\n\u001b[1;32m--> 261\u001b[0m     score, _ \u001b[38;5;241m=\u001b[39m \u001b[38;5;28;43mself\u001b[39;49m\u001b[38;5;241;43m.\u001b[39;49m\u001b[43mgreedy_projection_accumulator\u001b[49m\u001b[43m(\u001b[49m\u001b[43mzip_order\u001b[49m\u001b[43m,\u001b[49m\u001b[43m \u001b[49m\u001b[38;5;124;43m'\u001b[39;49m\u001b[38;5;124;43mcarbon_offset_kg_per_panel\u001b[39;49m\u001b[38;5;124;43m'\u001b[39;49m\u001b[43m,\u001b[49m\u001b[43m \u001b[49m\u001b[43mn\u001b[49m\u001b[43m)\u001b[49m\n\u001b[0;32m    262\u001b[0m     \u001b[38;5;28;01mreturn\u001b[39;00m score[\u001b[38;5;241m-\u001b[39m\u001b[38;5;241m1\u001b[39m]\u001b[38;5;241m/\u001b[39mn\n",
      "File \u001b[1;32mc:\\Users\\Archimedes Li\\Documents\\Research\\SunSight\\Visualization\\Neat\\evaluation_util.py:106\u001b[0m, in \u001b[0;36mDataManager.greedy_projection_accumulator\u001b[1;34m(self, zip_order, metric, n, record, train)\u001b[0m\n\u001b[0;32m    104\u001b[0m projection \u001b[38;5;241m=\u001b[39m np\u001b[38;5;241m.\u001b[39mzeros(n\u001b[38;5;241m+\u001b[39m\u001b[38;5;241m1\u001b[39m)\n\u001b[0;32m    105\u001b[0m ordered_index \u001b[38;5;241m=\u001b[39m \u001b[38;5;241m0\u001b[39m\n\u001b[1;32m--> 106\u001b[0m greedy_index \u001b[38;5;241m=\u001b[39m \u001b[43mzip_order\u001b[49m\u001b[43m[\u001b[49m\u001b[43mordered_index\u001b[49m\u001b[43m]\u001b[49m\n\u001b[0;32m    107\u001b[0m existing_count \u001b[38;5;241m=\u001b[39m \u001b[38;5;28mself\u001b[39m\u001b[38;5;241m.\u001b[39mcombined_df[\u001b[38;5;124m'\u001b[39m\u001b[38;5;124mexisting_installs_count\u001b[39m\u001b[38;5;124m'\u001b[39m][greedy_index]\n\u001b[0;32m    108\u001b[0m i \u001b[38;5;241m=\u001b[39m \u001b[38;5;241m0\u001b[39m \u001b[38;5;66;03m#panel counter\u001b[39;00m\n",
      "\u001b[1;31mIndexError\u001b[0m: list index out of range"
     ]
    }
   ],
   "source": [
    "#single model run\n",
    "network = run(config_path, eval_genomes_lexicase)\n",
    "save_model(network, model_name=\"NEAT_model_lexicase.pkl\")\n",
    "cv_order = run_network(network, data_manager, cross_val=True)"
   ]
  },
  {
   "cell_type": "code",
   "execution_count": 8,
   "metadata": {},
   "outputs": [
    {
     "name": "stdout",
     "output_type": "stream",
     "text": [
      "Carbon Offset score:  0.8594651801604856\n",
      "Energy Generation score:  0.8589490929704989\n",
      "Income Equity score:  0.7258815625972799\n",
      "Racial Equity score:  0.7824152665785489\n"
     ]
    }
   ],
   "source": [
    "cv_order = run_network(network, data_manager, cross_val=False)\n",
    "\n",
    "NUM_PANELS = 10000\n",
    "print(\"Carbon Offset score: \",data_manager.score(cv_order, 'carbon_offset', NUM_PANELS, train=True))\n",
    "\n",
    "print(\"Energy Generation score: \",data_manager.score(cv_order, 'energy_generation', NUM_PANELS, train=True))\n",
    "\n",
    "print(\"Income Equity score: \",data_manager.score(cv_order, 'income_equity', NUM_PANELS, train=True))\n",
    "\n",
    "print(\"Racial Equity score: \",data_manager.score(cv_order, 'racial_equity', NUM_PANELS, train=True))"
   ]
  },
  {
   "cell_type": "code",
   "execution_count": null,
   "metadata": {},
   "outputs": [
    {
     "ename": "NameError",
     "evalue": "name 'K_fold_run' is not defined",
     "output_type": "error",
     "traceback": [
      "\u001b[1;31m---------------------------------------------------------------------------\u001b[0m",
      "\u001b[1;31mNameError\u001b[0m                                 Traceback (most recent call last)",
      "Cell \u001b[1;32mIn[3], line 2\u001b[0m\n\u001b[0;32m      1\u001b[0m \u001b[38;5;66;03m#run lexicase\u001b[39;00m\n\u001b[1;32m----> 2\u001b[0m lexi_network, lexi_results \u001b[38;5;241m=\u001b[39m \u001b[43mK_fold_run\u001b[49m(config_path, data_manager, eval_genomes_lexicase, k\u001b[38;5;241m=\u001b[39mk_folds)\n\u001b[0;32m      3\u001b[0m save_model(lexi_network, lexi_results, model_name\u001b[38;5;241m=\u001b[39m\u001b[38;5;124m\"\u001b[39m\u001b[38;5;124mNEAT_model_lexicase.pkl\u001b[39m\u001b[38;5;124m\"\u001b[39m, results_name\u001b[38;5;241m=\u001b[39m\u001b[38;5;124m\"\u001b[39m\u001b[38;5;124mlexicase_results.pkl\u001b[39m\u001b[38;5;124m\"\u001b[39m)\n\u001b[0;32m      5\u001b[0m \u001b[38;5;66;03m#run fitness prop\u001b[39;00m\n",
      "\u001b[1;31mNameError\u001b[0m: name 'K_fold_run' is not defined"
     ]
    }
   ],
   "source": [
    "\n",
    "#run lexicase\n",
    "lexi_network, lexi_results = K_fold_run(config_path, data_manager, eval_genomes_lexicase, k=k_folds)\n",
    "save_model(lexi_network, lexi_results, model_name=\"NEAT_model_lexicase.pkl\", results_name=\"lexicase_results.pkl\")\n",
    "\n",
    "#run fitness prop\n",
    "fp_network, fp_results = K_fold_run(config_path, data_manager, eval_genomes_weighted_sum, reproduction_method=FitnessPropReproduction, k=k_folds)\n",
    "save_model(fp_network, fp_results, model_name=\"NEAT_model_fitness_prop.pkl\", results_name=\"fitness_prop_results.pkl\")\n",
    "\n",
    "#tournament selection\n",
    "tourney_network, tourney_results = K_fold_run(config_path, data_manager, eval_genomes_weighted_sum, reproduction_method=TournamentReproduction, k=k_folds)\n",
    "save_model(tourney_network, model_name=\"NEAT_model_tournament.pkl\", results_name=\"tournament_results.pkl\")\n",
    "\n",
    "#run random selection\n",
    "rand_network, rand_results = K_fold_run(config_path, data_manager, eval_genomes_random, k=k_folds)\n",
    "save_model(rand_network, model_name=\"NEAT_model_random.pkl\")\n",
    "\n",
    "#print results\n",
    "result_metrics = ['income_equity', 'racial_equity', 'carbon_offset', 'energy_generation']\n",
    "for i, res in enumerate(lexi_results):\n",
    "    print(f\"Lexicase {result_metrics[i]}\", res)\n",
    "\n",
    "for i, res in enumerate(fp_results):\n",
    "    print(f\"Fitness prop {result_metrics[i]}\", res)\n",
    "    \n",
    "for i, res in enumerate(tourney_results):\n",
    "    print(f\"Tourney {result_metrics[i]}\", res)\n",
    "\n",
    "for i, res in enumerate(rand_results):\n",
    "    print(f\"Random {result_metrics[i]}\", res)\n",
    "\n",
    "# for i, res in enumerate(rand_results):\n",
    "#     print(f\"Random {result_metrics[i]}\", res)\n"
   ]
  },
  {
   "cell_type": "code",
   "execution_count": null,
   "metadata": {},
   "outputs": [],
   "source": []
  }
 ],
 "metadata": {
  "kernelspec": {
   "display_name": "Python 3",
   "language": "python",
   "name": "python3"
  },
  "language_info": {
   "codemirror_mode": {
    "name": "ipython",
    "version": 3
   },
   "file_extension": ".py",
   "mimetype": "text/x-python",
   "name": "python",
   "nbconvert_exporter": "python",
   "pygments_lexer": "ipython3",
   "version": "3.11.0"
  }
 },
 "nbformat": 4,
 "nbformat_minor": 2
}
